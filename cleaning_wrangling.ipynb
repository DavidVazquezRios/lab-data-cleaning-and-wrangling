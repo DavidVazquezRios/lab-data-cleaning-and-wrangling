{
 "cells": [
  {
   "cell_type": "markdown",
   "id": "32e11ac9",
   "metadata": {},
   "source": [
    "![logo_ironhack_blue 7](https://user-images.githubusercontent.com/23629340/40541063-a07a0a8a-601a-11e8-91b5-2f13e4e6b441.png)\n",
    "\n",
    "# Lab | Cleaning numerical data\n",
    "\n",
    "For this lab, we will be using the dataset in the Customer Analysis Business Case. This dataset can be found in `files_for_lab` folder.\n",
    "\n",
    "## Context\n",
    "\n",
    "An auto insurance company has collected some data about its customers including their _demographics_, _education_, _employment_, _policy details_, _vehicle information_ on which insurance policy is, and _claim amounts_. You will help the senior management with some business questions that will help them to better understand their customers, improve their services, and improve profitability.\n",
    "\n",
    "**Some business Objectives**:\n",
    "\n",
    "- Retain customers,\n",
    "- Analyze relevant customer data,\n",
    "- Develop focused customer retention programs.\n",
    "\n",
    "Based on the analysis, take targeted actions to increase profitable customer response, retention, and growth.\n",
    "\n",
    "### Instructions\n",
    "\n",
    "1. Import the necessary libraries.\n",
    "2. Load the `we_fn_use_c_marketing_customer_value_analysis.csv` into the variable `customer_df`.\n",
    "3. First look at its main features (`head`, `shape`, `info`).\n",
    "4. Rename the columns so they follow the _PE8_ (snake case).\n",
    "5. Change effective to date column to datetime format.\n",
    "6. Check `NaN` values per column.\n",
    "7. Define a function that differentiates between continuous and discrete variables. **Hint**: A number of unique values might be useful. Store continuous data into a `continuous` variable and do the same for `discrete` and categorical.\n",
    "8. For the categorical data, check if there is some kind of text in a variable so we would need to clean it. **Hint**: Use the same method you used in step 7. Depending on the implementation, decide what to do with the variables you get.\n",
    "9. Get categorical features.\n",
    "10. What should we do with the `customer_id` column?\n"
   ]
  },
  {
   "cell_type": "code",
   "execution_count": null,
   "id": "5b53f277",
   "metadata": {},
   "outputs": [],
   "source": []
  },
  {
   "cell_type": "code",
   "execution_count": 1,
   "id": "6538d979",
   "metadata": {},
   "outputs": [],
   "source": [
    "#header standarization\n",
    "def header_data_std(dataframe): \n",
    "    cols = []\n",
    "    for i in range (len(dataframe.columns)):\n",
    "        cols.append(dataframe.columns[i].lower().replace(\" \",\"_\"))\n",
    "    dataframe.columns = cols\n",
    "    return(dataframe)\n",
    "\n",
    "#null values info\n",
    "def null_find(dataframe):\n",
    "    null_df = pd.DataFrame(round(dataframe.isna().sum()/len(dataframe),4)*100)\n",
    "    null_df = null_df.reset_index()\n",
    "    null_df.columns = ['header','percentage_nulls']\n",
    "    return(null_df)\n",
    "           \n",
    "#check datatypes\n",
    "def check_dtypes(dataframe):\n",
    "    test =dataframe.dtypes\n",
    "    x=0\n",
    "    for i in range (len(dataframe.columns)):\n",
    "        print(\"COL NAME: \",dataframe.columns[i])\n",
    "        print(\"  TYPE: \",test[x])\n",
    "        print(\"  % OF UNIQUE VALUES: \", (len(pd.unique(dataframe[dataframe.columns[i]]))/len(dataframe[dataframe.columns[i]]))*100 )\n",
    "        print(\"  Values: \",pd.unique(dataframe[dataframe.columns[i]]))\n",
    "        print(\"  SAMPLE: \",dataframe.iloc[0][dataframe.columns[i]])\n",
    "        print()\n",
    "        x+=1\n",
    "    return()"
   ]
  },
  {
   "cell_type": "markdown",
   "id": "60e6f362",
   "metadata": {},
   "source": [
    "1. Import the necessary libraries.\n"
   ]
  },
  {
   "cell_type": "code",
   "execution_count": 2,
   "id": "36ee364e",
   "metadata": {},
   "outputs": [],
   "source": [
    "from sqlalchemy import create_engine\n",
    "import pandas as pd\n",
    "import getpass  # To get the password without showing the input\n",
    "\n",
    "import matplotlib\n",
    "import matplotlib.pyplot as plt\n",
    "import seaborn as sns\n",
    "import numpy as np"
   ]
  },
  {
   "cell_type": "markdown",
   "id": "38db3f2c",
   "metadata": {},
   "source": [
    "2. Load the `we_fn_use_c_marketing_customer_value_analysis.csv` into the variable `customer_df`.\n"
   ]
  },
  {
   "cell_type": "code",
   "execution_count": 3,
   "id": "9464fb87",
   "metadata": {},
   "outputs": [],
   "source": [
    "customer_df = pd.read_csv('./files_for_lab/we_fn_use_c_marketing_customer_value_analysis.csv') "
   ]
  },
  {
   "cell_type": "markdown",
   "id": "5392d576",
   "metadata": {},
   "source": [
    "3. First look at its main features (`head`, `shape`, `info`).\n"
   ]
  },
  {
   "cell_type": "code",
   "execution_count": 4,
   "id": "fa6fcc63",
   "metadata": {},
   "outputs": [
    {
     "data": {
      "text/html": [
       "<div>\n",
       "<style scoped>\n",
       "    .dataframe tbody tr th:only-of-type {\n",
       "        vertical-align: middle;\n",
       "    }\n",
       "\n",
       "    .dataframe tbody tr th {\n",
       "        vertical-align: top;\n",
       "    }\n",
       "\n",
       "    .dataframe thead th {\n",
       "        text-align: right;\n",
       "    }\n",
       "</style>\n",
       "<table border=\"1\" class=\"dataframe\">\n",
       "  <thead>\n",
       "    <tr style=\"text-align: right;\">\n",
       "      <th></th>\n",
       "      <th>Customer</th>\n",
       "      <th>State</th>\n",
       "      <th>Customer Lifetime Value</th>\n",
       "      <th>Response</th>\n",
       "      <th>Coverage</th>\n",
       "      <th>Education</th>\n",
       "      <th>Effective To Date</th>\n",
       "      <th>EmploymentStatus</th>\n",
       "      <th>Gender</th>\n",
       "      <th>Income</th>\n",
       "      <th>...</th>\n",
       "      <th>Months Since Policy Inception</th>\n",
       "      <th>Number of Open Complaints</th>\n",
       "      <th>Number of Policies</th>\n",
       "      <th>Policy Type</th>\n",
       "      <th>Policy</th>\n",
       "      <th>Renew Offer Type</th>\n",
       "      <th>Sales Channel</th>\n",
       "      <th>Total Claim Amount</th>\n",
       "      <th>Vehicle Class</th>\n",
       "      <th>Vehicle Size</th>\n",
       "    </tr>\n",
       "  </thead>\n",
       "  <tbody>\n",
       "    <tr>\n",
       "      <th>0</th>\n",
       "      <td>BU79786</td>\n",
       "      <td>Washington</td>\n",
       "      <td>2763.519279</td>\n",
       "      <td>No</td>\n",
       "      <td>Basic</td>\n",
       "      <td>Bachelor</td>\n",
       "      <td>2/24/11</td>\n",
       "      <td>Employed</td>\n",
       "      <td>F</td>\n",
       "      <td>56274</td>\n",
       "      <td>...</td>\n",
       "      <td>5</td>\n",
       "      <td>0</td>\n",
       "      <td>1</td>\n",
       "      <td>Corporate Auto</td>\n",
       "      <td>Corporate L3</td>\n",
       "      <td>Offer1</td>\n",
       "      <td>Agent</td>\n",
       "      <td>384.811147</td>\n",
       "      <td>Two-Door Car</td>\n",
       "      <td>Medsize</td>\n",
       "    </tr>\n",
       "    <tr>\n",
       "      <th>1</th>\n",
       "      <td>QZ44356</td>\n",
       "      <td>Arizona</td>\n",
       "      <td>6979.535903</td>\n",
       "      <td>No</td>\n",
       "      <td>Extended</td>\n",
       "      <td>Bachelor</td>\n",
       "      <td>1/31/11</td>\n",
       "      <td>Unemployed</td>\n",
       "      <td>F</td>\n",
       "      <td>0</td>\n",
       "      <td>...</td>\n",
       "      <td>42</td>\n",
       "      <td>0</td>\n",
       "      <td>8</td>\n",
       "      <td>Personal Auto</td>\n",
       "      <td>Personal L3</td>\n",
       "      <td>Offer3</td>\n",
       "      <td>Agent</td>\n",
       "      <td>1131.464935</td>\n",
       "      <td>Four-Door Car</td>\n",
       "      <td>Medsize</td>\n",
       "    </tr>\n",
       "    <tr>\n",
       "      <th>2</th>\n",
       "      <td>AI49188</td>\n",
       "      <td>Nevada</td>\n",
       "      <td>12887.431650</td>\n",
       "      <td>No</td>\n",
       "      <td>Premium</td>\n",
       "      <td>Bachelor</td>\n",
       "      <td>2/19/11</td>\n",
       "      <td>Employed</td>\n",
       "      <td>F</td>\n",
       "      <td>48767</td>\n",
       "      <td>...</td>\n",
       "      <td>38</td>\n",
       "      <td>0</td>\n",
       "      <td>2</td>\n",
       "      <td>Personal Auto</td>\n",
       "      <td>Personal L3</td>\n",
       "      <td>Offer1</td>\n",
       "      <td>Agent</td>\n",
       "      <td>566.472247</td>\n",
       "      <td>Two-Door Car</td>\n",
       "      <td>Medsize</td>\n",
       "    </tr>\n",
       "    <tr>\n",
       "      <th>3</th>\n",
       "      <td>WW63253</td>\n",
       "      <td>California</td>\n",
       "      <td>7645.861827</td>\n",
       "      <td>No</td>\n",
       "      <td>Basic</td>\n",
       "      <td>Bachelor</td>\n",
       "      <td>1/20/11</td>\n",
       "      <td>Unemployed</td>\n",
       "      <td>M</td>\n",
       "      <td>0</td>\n",
       "      <td>...</td>\n",
       "      <td>65</td>\n",
       "      <td>0</td>\n",
       "      <td>7</td>\n",
       "      <td>Corporate Auto</td>\n",
       "      <td>Corporate L2</td>\n",
       "      <td>Offer1</td>\n",
       "      <td>Call Center</td>\n",
       "      <td>529.881344</td>\n",
       "      <td>SUV</td>\n",
       "      <td>Medsize</td>\n",
       "    </tr>\n",
       "    <tr>\n",
       "      <th>4</th>\n",
       "      <td>HB64268</td>\n",
       "      <td>Washington</td>\n",
       "      <td>2813.692575</td>\n",
       "      <td>No</td>\n",
       "      <td>Basic</td>\n",
       "      <td>Bachelor</td>\n",
       "      <td>2/3/11</td>\n",
       "      <td>Employed</td>\n",
       "      <td>M</td>\n",
       "      <td>43836</td>\n",
       "      <td>...</td>\n",
       "      <td>44</td>\n",
       "      <td>0</td>\n",
       "      <td>1</td>\n",
       "      <td>Personal Auto</td>\n",
       "      <td>Personal L1</td>\n",
       "      <td>Offer1</td>\n",
       "      <td>Agent</td>\n",
       "      <td>138.130879</td>\n",
       "      <td>Four-Door Car</td>\n",
       "      <td>Medsize</td>\n",
       "    </tr>\n",
       "  </tbody>\n",
       "</table>\n",
       "<p>5 rows × 24 columns</p>\n",
       "</div>"
      ],
      "text/plain": [
       "  Customer       State  Customer Lifetime Value Response  Coverage Education  \\\n",
       "0  BU79786  Washington              2763.519279       No     Basic  Bachelor   \n",
       "1  QZ44356     Arizona              6979.535903       No  Extended  Bachelor   \n",
       "2  AI49188      Nevada             12887.431650       No   Premium  Bachelor   \n",
       "3  WW63253  California              7645.861827       No     Basic  Bachelor   \n",
       "4  HB64268  Washington              2813.692575       No     Basic  Bachelor   \n",
       "\n",
       "  Effective To Date EmploymentStatus Gender  Income  ...  \\\n",
       "0           2/24/11         Employed      F   56274  ...   \n",
       "1           1/31/11       Unemployed      F       0  ...   \n",
       "2           2/19/11         Employed      F   48767  ...   \n",
       "3           1/20/11       Unemployed      M       0  ...   \n",
       "4            2/3/11         Employed      M   43836  ...   \n",
       "\n",
       "  Months Since Policy Inception Number of Open Complaints  Number of Policies  \\\n",
       "0                             5                         0                   1   \n",
       "1                            42                         0                   8   \n",
       "2                            38                         0                   2   \n",
       "3                            65                         0                   7   \n",
       "4                            44                         0                   1   \n",
       "\n",
       "      Policy Type        Policy  Renew Offer Type  Sales Channel  \\\n",
       "0  Corporate Auto  Corporate L3            Offer1          Agent   \n",
       "1   Personal Auto   Personal L3            Offer3          Agent   \n",
       "2   Personal Auto   Personal L3            Offer1          Agent   \n",
       "3  Corporate Auto  Corporate L2            Offer1    Call Center   \n",
       "4   Personal Auto   Personal L1            Offer1          Agent   \n",
       "\n",
       "  Total Claim Amount  Vehicle Class Vehicle Size  \n",
       "0         384.811147   Two-Door Car      Medsize  \n",
       "1        1131.464935  Four-Door Car      Medsize  \n",
       "2         566.472247   Two-Door Car      Medsize  \n",
       "3         529.881344            SUV      Medsize  \n",
       "4         138.130879  Four-Door Car      Medsize  \n",
       "\n",
       "[5 rows x 24 columns]"
      ]
     },
     "execution_count": 4,
     "metadata": {},
     "output_type": "execute_result"
    }
   ],
   "source": [
    "customer_df.head()"
   ]
  },
  {
   "cell_type": "code",
   "execution_count": 5,
   "id": "8d5dc1ab",
   "metadata": {},
   "outputs": [
    {
     "name": "stdout",
     "output_type": "stream",
     "text": [
      "<class 'pandas.core.frame.DataFrame'>\n",
      "RangeIndex: 9134 entries, 0 to 9133\n",
      "Data columns (total 24 columns):\n",
      " #   Column                         Non-Null Count  Dtype  \n",
      "---  ------                         --------------  -----  \n",
      " 0   Customer                       9134 non-null   object \n",
      " 1   State                          9134 non-null   object \n",
      " 2   Customer Lifetime Value        9134 non-null   float64\n",
      " 3   Response                       9134 non-null   object \n",
      " 4   Coverage                       9134 non-null   object \n",
      " 5   Education                      9134 non-null   object \n",
      " 6   Effective To Date              9134 non-null   object \n",
      " 7   EmploymentStatus               9134 non-null   object \n",
      " 8   Gender                         9134 non-null   object \n",
      " 9   Income                         9134 non-null   int64  \n",
      " 10  Location Code                  9134 non-null   object \n",
      " 11  Marital Status                 9134 non-null   object \n",
      " 12  Monthly Premium Auto           9134 non-null   int64  \n",
      " 13  Months Since Last Claim        9134 non-null   int64  \n",
      " 14  Months Since Policy Inception  9134 non-null   int64  \n",
      " 15  Number of Open Complaints      9134 non-null   int64  \n",
      " 16  Number of Policies             9134 non-null   int64  \n",
      " 17  Policy Type                    9134 non-null   object \n",
      " 18  Policy                         9134 non-null   object \n",
      " 19  Renew Offer Type               9134 non-null   object \n",
      " 20  Sales Channel                  9134 non-null   object \n",
      " 21  Total Claim Amount             9134 non-null   float64\n",
      " 22  Vehicle Class                  9134 non-null   object \n",
      " 23  Vehicle Size                   9134 non-null   object \n",
      "dtypes: float64(2), int64(6), object(16)\n",
      "memory usage: 1.7+ MB\n"
     ]
    }
   ],
   "source": [
    "customer_df.info()"
   ]
  },
  {
   "cell_type": "markdown",
   "id": "3a097cfd",
   "metadata": {},
   "source": [
    "4. Rename the columns so they follow the _PE8_ (snake case)."
   ]
  },
  {
   "cell_type": "code",
   "execution_count": 6,
   "id": "3fd7dec8",
   "metadata": {},
   "outputs": [],
   "source": [
    "customer_df = header_data_std(customer_df)"
   ]
  },
  {
   "cell_type": "code",
   "execution_count": 7,
   "id": "088cb987",
   "metadata": {},
   "outputs": [
    {
     "data": {
      "text/html": [
       "<div>\n",
       "<style scoped>\n",
       "    .dataframe tbody tr th:only-of-type {\n",
       "        vertical-align: middle;\n",
       "    }\n",
       "\n",
       "    .dataframe tbody tr th {\n",
       "        vertical-align: top;\n",
       "    }\n",
       "\n",
       "    .dataframe thead th {\n",
       "        text-align: right;\n",
       "    }\n",
       "</style>\n",
       "<table border=\"1\" class=\"dataframe\">\n",
       "  <thead>\n",
       "    <tr style=\"text-align: right;\">\n",
       "      <th></th>\n",
       "      <th>customer</th>\n",
       "      <th>state</th>\n",
       "      <th>customer_lifetime_value</th>\n",
       "      <th>response</th>\n",
       "      <th>coverage</th>\n",
       "      <th>education</th>\n",
       "      <th>effective_to_date</th>\n",
       "      <th>employmentstatus</th>\n",
       "      <th>gender</th>\n",
       "      <th>income</th>\n",
       "      <th>...</th>\n",
       "      <th>months_since_policy_inception</th>\n",
       "      <th>number_of_open_complaints</th>\n",
       "      <th>number_of_policies</th>\n",
       "      <th>policy_type</th>\n",
       "      <th>policy</th>\n",
       "      <th>renew_offer_type</th>\n",
       "      <th>sales_channel</th>\n",
       "      <th>total_claim_amount</th>\n",
       "      <th>vehicle_class</th>\n",
       "      <th>vehicle_size</th>\n",
       "    </tr>\n",
       "  </thead>\n",
       "  <tbody>\n",
       "    <tr>\n",
       "      <th>0</th>\n",
       "      <td>BU79786</td>\n",
       "      <td>Washington</td>\n",
       "      <td>2763.519279</td>\n",
       "      <td>No</td>\n",
       "      <td>Basic</td>\n",
       "      <td>Bachelor</td>\n",
       "      <td>2/24/11</td>\n",
       "      <td>Employed</td>\n",
       "      <td>F</td>\n",
       "      <td>56274</td>\n",
       "      <td>...</td>\n",
       "      <td>5</td>\n",
       "      <td>0</td>\n",
       "      <td>1</td>\n",
       "      <td>Corporate Auto</td>\n",
       "      <td>Corporate L3</td>\n",
       "      <td>Offer1</td>\n",
       "      <td>Agent</td>\n",
       "      <td>384.811147</td>\n",
       "      <td>Two-Door Car</td>\n",
       "      <td>Medsize</td>\n",
       "    </tr>\n",
       "    <tr>\n",
       "      <th>1</th>\n",
       "      <td>QZ44356</td>\n",
       "      <td>Arizona</td>\n",
       "      <td>6979.535903</td>\n",
       "      <td>No</td>\n",
       "      <td>Extended</td>\n",
       "      <td>Bachelor</td>\n",
       "      <td>1/31/11</td>\n",
       "      <td>Unemployed</td>\n",
       "      <td>F</td>\n",
       "      <td>0</td>\n",
       "      <td>...</td>\n",
       "      <td>42</td>\n",
       "      <td>0</td>\n",
       "      <td>8</td>\n",
       "      <td>Personal Auto</td>\n",
       "      <td>Personal L3</td>\n",
       "      <td>Offer3</td>\n",
       "      <td>Agent</td>\n",
       "      <td>1131.464935</td>\n",
       "      <td>Four-Door Car</td>\n",
       "      <td>Medsize</td>\n",
       "    </tr>\n",
       "    <tr>\n",
       "      <th>2</th>\n",
       "      <td>AI49188</td>\n",
       "      <td>Nevada</td>\n",
       "      <td>12887.431650</td>\n",
       "      <td>No</td>\n",
       "      <td>Premium</td>\n",
       "      <td>Bachelor</td>\n",
       "      <td>2/19/11</td>\n",
       "      <td>Employed</td>\n",
       "      <td>F</td>\n",
       "      <td>48767</td>\n",
       "      <td>...</td>\n",
       "      <td>38</td>\n",
       "      <td>0</td>\n",
       "      <td>2</td>\n",
       "      <td>Personal Auto</td>\n",
       "      <td>Personal L3</td>\n",
       "      <td>Offer1</td>\n",
       "      <td>Agent</td>\n",
       "      <td>566.472247</td>\n",
       "      <td>Two-Door Car</td>\n",
       "      <td>Medsize</td>\n",
       "    </tr>\n",
       "    <tr>\n",
       "      <th>3</th>\n",
       "      <td>WW63253</td>\n",
       "      <td>California</td>\n",
       "      <td>7645.861827</td>\n",
       "      <td>No</td>\n",
       "      <td>Basic</td>\n",
       "      <td>Bachelor</td>\n",
       "      <td>1/20/11</td>\n",
       "      <td>Unemployed</td>\n",
       "      <td>M</td>\n",
       "      <td>0</td>\n",
       "      <td>...</td>\n",
       "      <td>65</td>\n",
       "      <td>0</td>\n",
       "      <td>7</td>\n",
       "      <td>Corporate Auto</td>\n",
       "      <td>Corporate L2</td>\n",
       "      <td>Offer1</td>\n",
       "      <td>Call Center</td>\n",
       "      <td>529.881344</td>\n",
       "      <td>SUV</td>\n",
       "      <td>Medsize</td>\n",
       "    </tr>\n",
       "    <tr>\n",
       "      <th>4</th>\n",
       "      <td>HB64268</td>\n",
       "      <td>Washington</td>\n",
       "      <td>2813.692575</td>\n",
       "      <td>No</td>\n",
       "      <td>Basic</td>\n",
       "      <td>Bachelor</td>\n",
       "      <td>2/3/11</td>\n",
       "      <td>Employed</td>\n",
       "      <td>M</td>\n",
       "      <td>43836</td>\n",
       "      <td>...</td>\n",
       "      <td>44</td>\n",
       "      <td>0</td>\n",
       "      <td>1</td>\n",
       "      <td>Personal Auto</td>\n",
       "      <td>Personal L1</td>\n",
       "      <td>Offer1</td>\n",
       "      <td>Agent</td>\n",
       "      <td>138.130879</td>\n",
       "      <td>Four-Door Car</td>\n",
       "      <td>Medsize</td>\n",
       "    </tr>\n",
       "  </tbody>\n",
       "</table>\n",
       "<p>5 rows × 24 columns</p>\n",
       "</div>"
      ],
      "text/plain": [
       "  customer       state  customer_lifetime_value response  coverage education  \\\n",
       "0  BU79786  Washington              2763.519279       No     Basic  Bachelor   \n",
       "1  QZ44356     Arizona              6979.535903       No  Extended  Bachelor   \n",
       "2  AI49188      Nevada             12887.431650       No   Premium  Bachelor   \n",
       "3  WW63253  California              7645.861827       No     Basic  Bachelor   \n",
       "4  HB64268  Washington              2813.692575       No     Basic  Bachelor   \n",
       "\n",
       "  effective_to_date employmentstatus gender  income  ...  \\\n",
       "0           2/24/11         Employed      F   56274  ...   \n",
       "1           1/31/11       Unemployed      F       0  ...   \n",
       "2           2/19/11         Employed      F   48767  ...   \n",
       "3           1/20/11       Unemployed      M       0  ...   \n",
       "4            2/3/11         Employed      M   43836  ...   \n",
       "\n",
       "  months_since_policy_inception number_of_open_complaints  number_of_policies  \\\n",
       "0                             5                         0                   1   \n",
       "1                            42                         0                   8   \n",
       "2                            38                         0                   2   \n",
       "3                            65                         0                   7   \n",
       "4                            44                         0                   1   \n",
       "\n",
       "      policy_type        policy  renew_offer_type  sales_channel  \\\n",
       "0  Corporate Auto  Corporate L3            Offer1          Agent   \n",
       "1   Personal Auto   Personal L3            Offer3          Agent   \n",
       "2   Personal Auto   Personal L3            Offer1          Agent   \n",
       "3  Corporate Auto  Corporate L2            Offer1    Call Center   \n",
       "4   Personal Auto   Personal L1            Offer1          Agent   \n",
       "\n",
       "  total_claim_amount  vehicle_class vehicle_size  \n",
       "0         384.811147   Two-Door Car      Medsize  \n",
       "1        1131.464935  Four-Door Car      Medsize  \n",
       "2         566.472247   Two-Door Car      Medsize  \n",
       "3         529.881344            SUV      Medsize  \n",
       "4         138.130879  Four-Door Car      Medsize  \n",
       "\n",
       "[5 rows x 24 columns]"
      ]
     },
     "execution_count": 7,
     "metadata": {},
     "output_type": "execute_result"
    }
   ],
   "source": [
    "customer_df.head()"
   ]
  },
  {
   "cell_type": "markdown",
   "id": "bbf15584",
   "metadata": {},
   "source": [
    "5. Change effective to date column to datetime format.\n"
   ]
  },
  {
   "cell_type": "code",
   "execution_count": 8,
   "id": "a1eae403",
   "metadata": {},
   "outputs": [],
   "source": [
    "customer_df['effective_to_date']=pd.to_datetime(customer_df['effective_to_date'])"
   ]
  },
  {
   "cell_type": "markdown",
   "id": "4f6c0a75",
   "metadata": {},
   "source": [
    "6. Check `NaN` values per column.\n"
   ]
  },
  {
   "cell_type": "code",
   "execution_count": 9,
   "id": "2013bb1c",
   "metadata": {},
   "outputs": [
    {
     "data": {
      "text/html": [
       "<div>\n",
       "<style scoped>\n",
       "    .dataframe tbody tr th:only-of-type {\n",
       "        vertical-align: middle;\n",
       "    }\n",
       "\n",
       "    .dataframe tbody tr th {\n",
       "        vertical-align: top;\n",
       "    }\n",
       "\n",
       "    .dataframe thead th {\n",
       "        text-align: right;\n",
       "    }\n",
       "</style>\n",
       "<table border=\"1\" class=\"dataframe\">\n",
       "  <thead>\n",
       "    <tr style=\"text-align: right;\">\n",
       "      <th></th>\n",
       "      <th>header</th>\n",
       "      <th>percentage_nulls</th>\n",
       "    </tr>\n",
       "  </thead>\n",
       "  <tbody>\n",
       "    <tr>\n",
       "      <th>0</th>\n",
       "      <td>customer</td>\n",
       "      <td>0.0</td>\n",
       "    </tr>\n",
       "    <tr>\n",
       "      <th>1</th>\n",
       "      <td>state</td>\n",
       "      <td>0.0</td>\n",
       "    </tr>\n",
       "    <tr>\n",
       "      <th>2</th>\n",
       "      <td>customer_lifetime_value</td>\n",
       "      <td>0.0</td>\n",
       "    </tr>\n",
       "    <tr>\n",
       "      <th>3</th>\n",
       "      <td>response</td>\n",
       "      <td>0.0</td>\n",
       "    </tr>\n",
       "    <tr>\n",
       "      <th>4</th>\n",
       "      <td>coverage</td>\n",
       "      <td>0.0</td>\n",
       "    </tr>\n",
       "    <tr>\n",
       "      <th>5</th>\n",
       "      <td>education</td>\n",
       "      <td>0.0</td>\n",
       "    </tr>\n",
       "    <tr>\n",
       "      <th>6</th>\n",
       "      <td>effective_to_date</td>\n",
       "      <td>0.0</td>\n",
       "    </tr>\n",
       "    <tr>\n",
       "      <th>7</th>\n",
       "      <td>employmentstatus</td>\n",
       "      <td>0.0</td>\n",
       "    </tr>\n",
       "    <tr>\n",
       "      <th>8</th>\n",
       "      <td>gender</td>\n",
       "      <td>0.0</td>\n",
       "    </tr>\n",
       "    <tr>\n",
       "      <th>9</th>\n",
       "      <td>income</td>\n",
       "      <td>0.0</td>\n",
       "    </tr>\n",
       "    <tr>\n",
       "      <th>10</th>\n",
       "      <td>location_code</td>\n",
       "      <td>0.0</td>\n",
       "    </tr>\n",
       "    <tr>\n",
       "      <th>11</th>\n",
       "      <td>marital_status</td>\n",
       "      <td>0.0</td>\n",
       "    </tr>\n",
       "    <tr>\n",
       "      <th>12</th>\n",
       "      <td>monthly_premium_auto</td>\n",
       "      <td>0.0</td>\n",
       "    </tr>\n",
       "    <tr>\n",
       "      <th>13</th>\n",
       "      <td>months_since_last_claim</td>\n",
       "      <td>0.0</td>\n",
       "    </tr>\n",
       "    <tr>\n",
       "      <th>14</th>\n",
       "      <td>months_since_policy_inception</td>\n",
       "      <td>0.0</td>\n",
       "    </tr>\n",
       "    <tr>\n",
       "      <th>15</th>\n",
       "      <td>number_of_open_complaints</td>\n",
       "      <td>0.0</td>\n",
       "    </tr>\n",
       "    <tr>\n",
       "      <th>16</th>\n",
       "      <td>number_of_policies</td>\n",
       "      <td>0.0</td>\n",
       "    </tr>\n",
       "    <tr>\n",
       "      <th>17</th>\n",
       "      <td>policy_type</td>\n",
       "      <td>0.0</td>\n",
       "    </tr>\n",
       "    <tr>\n",
       "      <th>18</th>\n",
       "      <td>policy</td>\n",
       "      <td>0.0</td>\n",
       "    </tr>\n",
       "    <tr>\n",
       "      <th>19</th>\n",
       "      <td>renew_offer_type</td>\n",
       "      <td>0.0</td>\n",
       "    </tr>\n",
       "    <tr>\n",
       "      <th>20</th>\n",
       "      <td>sales_channel</td>\n",
       "      <td>0.0</td>\n",
       "    </tr>\n",
       "    <tr>\n",
       "      <th>21</th>\n",
       "      <td>total_claim_amount</td>\n",
       "      <td>0.0</td>\n",
       "    </tr>\n",
       "    <tr>\n",
       "      <th>22</th>\n",
       "      <td>vehicle_class</td>\n",
       "      <td>0.0</td>\n",
       "    </tr>\n",
       "    <tr>\n",
       "      <th>23</th>\n",
       "      <td>vehicle_size</td>\n",
       "      <td>0.0</td>\n",
       "    </tr>\n",
       "  </tbody>\n",
       "</table>\n",
       "</div>"
      ],
      "text/plain": [
       "                           header  percentage_nulls\n",
       "0                        customer               0.0\n",
       "1                           state               0.0\n",
       "2         customer_lifetime_value               0.0\n",
       "3                        response               0.0\n",
       "4                        coverage               0.0\n",
       "5                       education               0.0\n",
       "6               effective_to_date               0.0\n",
       "7                employmentstatus               0.0\n",
       "8                          gender               0.0\n",
       "9                          income               0.0\n",
       "10                  location_code               0.0\n",
       "11                 marital_status               0.0\n",
       "12           monthly_premium_auto               0.0\n",
       "13        months_since_last_claim               0.0\n",
       "14  months_since_policy_inception               0.0\n",
       "15      number_of_open_complaints               0.0\n",
       "16             number_of_policies               0.0\n",
       "17                    policy_type               0.0\n",
       "18                         policy               0.0\n",
       "19               renew_offer_type               0.0\n",
       "20                  sales_channel               0.0\n",
       "21             total_claim_amount               0.0\n",
       "22                  vehicle_class               0.0\n",
       "23                   vehicle_size               0.0"
      ]
     },
     "execution_count": 9,
     "metadata": {},
     "output_type": "execute_result"
    }
   ],
   "source": [
    "null_find(customer_df)"
   ]
  },
  {
   "cell_type": "markdown",
   "id": "422284d2",
   "metadata": {},
   "source": [
    "7. Define a function that differentiates between continuous and discrete variables. **Hint**: A number of unique values might be useful. Store continuous data into a `continuous` variable and do the same for `discrete` and categorical."
   ]
  },
  {
   "cell_type": "code",
   "execution_count": 10,
   "id": "638c6271",
   "metadata": {},
   "outputs": [],
   "source": [
    "#split data in continous and discrete + categorical and drop categoricals with excesive values\n",
    "def split_data(dataframe):\n",
    "    time = dataframe.select_dtypes(include = np.datetime64)\n",
    "    numerical = dataframe.select_dtypes(include = np.number)\n",
    "    categorical = dataframe.select_dtypes(include = object)\n",
    "    categorical2= pd.DataFrame() \n",
    "    numerical2 = pd.DataFrame()\n",
    "\n",
    "    for i in range (len(numerical.columns)):\n",
    "        if (len(pd.unique(numerical[numerical.columns[i]]))/len(numerical)*100) < 1 :\n",
    "            categorical.loc[:,numerical.columns[i]]= numerical[numerical.columns[i]].astype(object)\n",
    "            #numerical = numerical.drop(numerical.columns[i], axis=1)\n",
    "        else:\n",
    "            numerical2.loc[:,numerical.columns[i]] = numerical[numerical.columns[i]]\n",
    "    #for i in range (len(categorical.columns)):\n",
    "    #    if (len(pd.unique(categorical[categorical.columns[i]]))/len(categorical)*100) < 1 :\n",
    "    #        categorical2.loc[:,categorical.columns[i]]= categorical[categorical.columns[i]]\n",
    "    print(time)\n",
    "    print(categorical.columns)\n",
    "    print(numerical2.columns)\n",
    "    return(pd.concat([categorical,time], axis =1),numerical2)"
   ]
  },
  {
   "cell_type": "code",
   "execution_count": 11,
   "id": "d0527bc7",
   "metadata": {
    "scrolled": false
   },
   "outputs": [
    {
     "name": "stdout",
     "output_type": "stream",
     "text": [
      "     effective_to_date\n",
      "0           2011-02-24\n",
      "1           2011-01-31\n",
      "2           2011-02-19\n",
      "3           2011-01-20\n",
      "4           2011-02-03\n",
      "...                ...\n",
      "9129        2011-02-10\n",
      "9130        2011-02-12\n",
      "9131        2011-02-06\n",
      "9132        2011-02-03\n",
      "9133        2011-02-14\n",
      "\n",
      "[9134 rows x 1 columns]\n",
      "Index(['customer', 'state', 'response', 'coverage', 'education',\n",
      "       'employmentstatus', 'gender', 'location_code', 'marital_status',\n",
      "       'policy_type', 'policy', 'renew_offer_type', 'sales_channel',\n",
      "       'vehicle_class', 'vehicle_size', 'months_since_last_claim',\n",
      "       'number_of_open_complaints', 'number_of_policies'],\n",
      "      dtype='object')\n",
      "Index(['customer_lifetime_value', 'income', 'monthly_premium_auto',\n",
      "       'months_since_policy_inception', 'total_claim_amount'],\n",
      "      dtype='object')\n"
     ]
    },
    {
     "name": "stderr",
     "output_type": "stream",
     "text": [
      "C:\\Users\\Kyre\\anaconda3\\lib\\site-packages\\pandas\\core\\indexing.py:1667: SettingWithCopyWarning: \n",
      "A value is trying to be set on a copy of a slice from a DataFrame.\n",
      "Try using .loc[row_indexer,col_indexer] = value instead\n",
      "\n",
      "See the caveats in the documentation: https://pandas.pydata.org/pandas-docs/stable/user_guide/indexing.html#returning-a-view-versus-a-copy\n",
      "  self.obj[key] = value\n"
     ]
    }
   ],
   "source": [
    "discrete,continuous = split_data(customer_df)"
   ]
  },
  {
   "cell_type": "markdown",
   "id": "77d54606",
   "metadata": {},
   "source": [
    "8.For the categorical data, check if there is some kind of text in a variable so we would need to clean it. Hint: Use the same method you used in step 7. Depending on the implementation, decide what to do with the variables you get."
   ]
  },
  {
   "cell_type": "code",
   "execution_count": 12,
   "id": "c9ba1989",
   "metadata": {
    "scrolled": false
   },
   "outputs": [
    {
     "data": {
      "text/html": [
       "<div>\n",
       "<style scoped>\n",
       "    .dataframe tbody tr th:only-of-type {\n",
       "        vertical-align: middle;\n",
       "    }\n",
       "\n",
       "    .dataframe tbody tr th {\n",
       "        vertical-align: top;\n",
       "    }\n",
       "\n",
       "    .dataframe thead th {\n",
       "        text-align: right;\n",
       "    }\n",
       "</style>\n",
       "<table border=\"1\" class=\"dataframe\">\n",
       "  <thead>\n",
       "    <tr style=\"text-align: right;\">\n",
       "      <th></th>\n",
       "      <th>customer</th>\n",
       "      <th>state</th>\n",
       "      <th>response</th>\n",
       "      <th>coverage</th>\n",
       "      <th>education</th>\n",
       "      <th>employmentstatus</th>\n",
       "      <th>gender</th>\n",
       "      <th>location_code</th>\n",
       "      <th>marital_status</th>\n",
       "      <th>policy_type</th>\n",
       "      <th>policy</th>\n",
       "      <th>renew_offer_type</th>\n",
       "      <th>sales_channel</th>\n",
       "      <th>vehicle_class</th>\n",
       "      <th>vehicle_size</th>\n",
       "      <th>months_since_last_claim</th>\n",
       "      <th>number_of_open_complaints</th>\n",
       "      <th>number_of_policies</th>\n",
       "      <th>effective_to_date</th>\n",
       "    </tr>\n",
       "  </thead>\n",
       "  <tbody>\n",
       "    <tr>\n",
       "      <th>0</th>\n",
       "      <td>BU79786</td>\n",
       "      <td>Washington</td>\n",
       "      <td>No</td>\n",
       "      <td>Basic</td>\n",
       "      <td>Bachelor</td>\n",
       "      <td>Employed</td>\n",
       "      <td>F</td>\n",
       "      <td>Suburban</td>\n",
       "      <td>Married</td>\n",
       "      <td>Corporate Auto</td>\n",
       "      <td>Corporate L3</td>\n",
       "      <td>Offer1</td>\n",
       "      <td>Agent</td>\n",
       "      <td>Two-Door Car</td>\n",
       "      <td>Medsize</td>\n",
       "      <td>32</td>\n",
       "      <td>0</td>\n",
       "      <td>1</td>\n",
       "      <td>2011-02-24</td>\n",
       "    </tr>\n",
       "    <tr>\n",
       "      <th>1</th>\n",
       "      <td>QZ44356</td>\n",
       "      <td>Arizona</td>\n",
       "      <td>No</td>\n",
       "      <td>Extended</td>\n",
       "      <td>Bachelor</td>\n",
       "      <td>Unemployed</td>\n",
       "      <td>F</td>\n",
       "      <td>Suburban</td>\n",
       "      <td>Single</td>\n",
       "      <td>Personal Auto</td>\n",
       "      <td>Personal L3</td>\n",
       "      <td>Offer3</td>\n",
       "      <td>Agent</td>\n",
       "      <td>Four-Door Car</td>\n",
       "      <td>Medsize</td>\n",
       "      <td>13</td>\n",
       "      <td>0</td>\n",
       "      <td>8</td>\n",
       "      <td>2011-01-31</td>\n",
       "    </tr>\n",
       "    <tr>\n",
       "      <th>2</th>\n",
       "      <td>AI49188</td>\n",
       "      <td>Nevada</td>\n",
       "      <td>No</td>\n",
       "      <td>Premium</td>\n",
       "      <td>Bachelor</td>\n",
       "      <td>Employed</td>\n",
       "      <td>F</td>\n",
       "      <td>Suburban</td>\n",
       "      <td>Married</td>\n",
       "      <td>Personal Auto</td>\n",
       "      <td>Personal L3</td>\n",
       "      <td>Offer1</td>\n",
       "      <td>Agent</td>\n",
       "      <td>Two-Door Car</td>\n",
       "      <td>Medsize</td>\n",
       "      <td>18</td>\n",
       "      <td>0</td>\n",
       "      <td>2</td>\n",
       "      <td>2011-02-19</td>\n",
       "    </tr>\n",
       "    <tr>\n",
       "      <th>3</th>\n",
       "      <td>WW63253</td>\n",
       "      <td>California</td>\n",
       "      <td>No</td>\n",
       "      <td>Basic</td>\n",
       "      <td>Bachelor</td>\n",
       "      <td>Unemployed</td>\n",
       "      <td>M</td>\n",
       "      <td>Suburban</td>\n",
       "      <td>Married</td>\n",
       "      <td>Corporate Auto</td>\n",
       "      <td>Corporate L2</td>\n",
       "      <td>Offer1</td>\n",
       "      <td>Call Center</td>\n",
       "      <td>SUV</td>\n",
       "      <td>Medsize</td>\n",
       "      <td>18</td>\n",
       "      <td>0</td>\n",
       "      <td>7</td>\n",
       "      <td>2011-01-20</td>\n",
       "    </tr>\n",
       "    <tr>\n",
       "      <th>4</th>\n",
       "      <td>HB64268</td>\n",
       "      <td>Washington</td>\n",
       "      <td>No</td>\n",
       "      <td>Basic</td>\n",
       "      <td>Bachelor</td>\n",
       "      <td>Employed</td>\n",
       "      <td>M</td>\n",
       "      <td>Rural</td>\n",
       "      <td>Single</td>\n",
       "      <td>Personal Auto</td>\n",
       "      <td>Personal L1</td>\n",
       "      <td>Offer1</td>\n",
       "      <td>Agent</td>\n",
       "      <td>Four-Door Car</td>\n",
       "      <td>Medsize</td>\n",
       "      <td>12</td>\n",
       "      <td>0</td>\n",
       "      <td>1</td>\n",
       "      <td>2011-02-03</td>\n",
       "    </tr>\n",
       "  </tbody>\n",
       "</table>\n",
       "</div>"
      ],
      "text/plain": [
       "  customer       state response  coverage education employmentstatus gender  \\\n",
       "0  BU79786  Washington       No     Basic  Bachelor         Employed      F   \n",
       "1  QZ44356     Arizona       No  Extended  Bachelor       Unemployed      F   \n",
       "2  AI49188      Nevada       No   Premium  Bachelor         Employed      F   \n",
       "3  WW63253  California       No     Basic  Bachelor       Unemployed      M   \n",
       "4  HB64268  Washington       No     Basic  Bachelor         Employed      M   \n",
       "\n",
       "  location_code marital_status     policy_type        policy renew_offer_type  \\\n",
       "0      Suburban        Married  Corporate Auto  Corporate L3           Offer1   \n",
       "1      Suburban         Single   Personal Auto   Personal L3           Offer3   \n",
       "2      Suburban        Married   Personal Auto   Personal L3           Offer1   \n",
       "3      Suburban        Married  Corporate Auto  Corporate L2           Offer1   \n",
       "4         Rural         Single   Personal Auto   Personal L1           Offer1   \n",
       "\n",
       "  sales_channel  vehicle_class vehicle_size months_since_last_claim  \\\n",
       "0         Agent   Two-Door Car      Medsize                      32   \n",
       "1         Agent  Four-Door Car      Medsize                      13   \n",
       "2         Agent   Two-Door Car      Medsize                      18   \n",
       "3   Call Center            SUV      Medsize                      18   \n",
       "4         Agent  Four-Door Car      Medsize                      12   \n",
       "\n",
       "  number_of_open_complaints number_of_policies effective_to_date  \n",
       "0                         0                  1        2011-02-24  \n",
       "1                         0                  8        2011-01-31  \n",
       "2                         0                  2        2011-02-19  \n",
       "3                         0                  7        2011-01-20  \n",
       "4                         0                  1        2011-02-03  "
      ]
     },
     "execution_count": 12,
     "metadata": {},
     "output_type": "execute_result"
    }
   ],
   "source": [
    "discrete.head()"
   ]
  },
  {
   "cell_type": "code",
   "execution_count": 13,
   "id": "bd91ee12",
   "metadata": {},
   "outputs": [
    {
     "data": {
      "text/plain": [
       "array(['Offer1', 'Offer3', 'Offer2', 'Offer4'], dtype=object)"
      ]
     },
     "execution_count": 13,
     "metadata": {},
     "output_type": "execute_result"
    }
   ],
   "source": [
    "discrete['renew_offer_type'].unique()"
   ]
  },
  {
   "cell_type": "code",
   "execution_count": 14,
   "id": "a9a76fb6",
   "metadata": {},
   "outputs": [
    {
     "data": {
      "text/plain": [
       "customer                             object\n",
       "state                                object\n",
       "response                             object\n",
       "coverage                             object\n",
       "education                            object\n",
       "employmentstatus                     object\n",
       "gender                               object\n",
       "location_code                        object\n",
       "marital_status                       object\n",
       "policy_type                          object\n",
       "policy                               object\n",
       "renew_offer_type                     object\n",
       "sales_channel                        object\n",
       "vehicle_class                        object\n",
       "vehicle_size                         object\n",
       "months_since_last_claim              object\n",
       "number_of_open_complaints            object\n",
       "number_of_policies                   object\n",
       "effective_to_date            datetime64[ns]\n",
       "dtype: object"
      ]
     },
     "execution_count": 14,
     "metadata": {},
     "output_type": "execute_result"
    }
   ],
   "source": [
    "discrete.dtypes"
   ]
  },
  {
   "cell_type": "markdown",
   "id": "b1518b5c",
   "metadata": {},
   "source": [
    "#I´m not doing anything with the categoricals"
   ]
  },
  {
   "cell_type": "markdown",
   "id": "6da9185e",
   "metadata": {},
   "source": [
    "9.Get categorical features."
   ]
  },
  {
   "cell_type": "markdown",
   "id": "ea466583",
   "metadata": {},
   "source": [
    "discrete = pd.get_dummies(discrete, drop_first=True)\n",
    "discrete"
   ]
  },
  {
   "cell_type": "markdown",
   "id": "36570339",
   "metadata": {},
   "source": [
    "10.What should we do with the customer_id column?\n",
    "Already dropped in step 7"
   ]
  },
  {
   "cell_type": "code",
   "execution_count": 15,
   "id": "22a39c8c",
   "metadata": {},
   "outputs": [],
   "source": [
    "discrete = discrete.drop('customer', axis=1)"
   ]
  },
  {
   "cell_type": "code",
   "execution_count": null,
   "id": "c6b51eef",
   "metadata": {},
   "outputs": [],
   "source": []
  },
  {
   "cell_type": "code",
   "execution_count": 16,
   "id": "9dd0e28f",
   "metadata": {
    "scrolled": true
   },
   "outputs": [
    {
     "data": {
      "text/html": [
       "<div>\n",
       "<style scoped>\n",
       "    .dataframe tbody tr th:only-of-type {\n",
       "        vertical-align: middle;\n",
       "    }\n",
       "\n",
       "    .dataframe tbody tr th {\n",
       "        vertical-align: top;\n",
       "    }\n",
       "\n",
       "    .dataframe thead th {\n",
       "        text-align: right;\n",
       "    }\n",
       "</style>\n",
       "<table border=\"1\" class=\"dataframe\">\n",
       "  <thead>\n",
       "    <tr style=\"text-align: right;\">\n",
       "      <th></th>\n",
       "      <th>customer_lifetime_value</th>\n",
       "      <th>income</th>\n",
       "      <th>monthly_premium_auto</th>\n",
       "      <th>months_since_policy_inception</th>\n",
       "      <th>total_claim_amount</th>\n",
       "    </tr>\n",
       "  </thead>\n",
       "  <tbody>\n",
       "    <tr>\n",
       "      <th>0</th>\n",
       "      <td>2763.519279</td>\n",
       "      <td>56274</td>\n",
       "      <td>69</td>\n",
       "      <td>5</td>\n",
       "      <td>384.811147</td>\n",
       "    </tr>\n",
       "    <tr>\n",
       "      <th>1</th>\n",
       "      <td>6979.535903</td>\n",
       "      <td>0</td>\n",
       "      <td>94</td>\n",
       "      <td>42</td>\n",
       "      <td>1131.464935</td>\n",
       "    </tr>\n",
       "    <tr>\n",
       "      <th>2</th>\n",
       "      <td>12887.431650</td>\n",
       "      <td>48767</td>\n",
       "      <td>108</td>\n",
       "      <td>38</td>\n",
       "      <td>566.472247</td>\n",
       "    </tr>\n",
       "    <tr>\n",
       "      <th>3</th>\n",
       "      <td>7645.861827</td>\n",
       "      <td>0</td>\n",
       "      <td>106</td>\n",
       "      <td>65</td>\n",
       "      <td>529.881344</td>\n",
       "    </tr>\n",
       "    <tr>\n",
       "      <th>4</th>\n",
       "      <td>2813.692575</td>\n",
       "      <td>43836</td>\n",
       "      <td>73</td>\n",
       "      <td>44</td>\n",
       "      <td>138.130879</td>\n",
       "    </tr>\n",
       "    <tr>\n",
       "      <th>...</th>\n",
       "      <td>...</td>\n",
       "      <td>...</td>\n",
       "      <td>...</td>\n",
       "      <td>...</td>\n",
       "      <td>...</td>\n",
       "    </tr>\n",
       "    <tr>\n",
       "      <th>9129</th>\n",
       "      <td>23405.987980</td>\n",
       "      <td>71941</td>\n",
       "      <td>73</td>\n",
       "      <td>89</td>\n",
       "      <td>198.234764</td>\n",
       "    </tr>\n",
       "    <tr>\n",
       "      <th>9130</th>\n",
       "      <td>3096.511217</td>\n",
       "      <td>21604</td>\n",
       "      <td>79</td>\n",
       "      <td>28</td>\n",
       "      <td>379.200000</td>\n",
       "    </tr>\n",
       "    <tr>\n",
       "      <th>9131</th>\n",
       "      <td>8163.890428</td>\n",
       "      <td>0</td>\n",
       "      <td>85</td>\n",
       "      <td>37</td>\n",
       "      <td>790.784983</td>\n",
       "    </tr>\n",
       "    <tr>\n",
       "      <th>9132</th>\n",
       "      <td>7524.442436</td>\n",
       "      <td>21941</td>\n",
       "      <td>96</td>\n",
       "      <td>3</td>\n",
       "      <td>691.200000</td>\n",
       "    </tr>\n",
       "    <tr>\n",
       "      <th>9133</th>\n",
       "      <td>2611.836866</td>\n",
       "      <td>0</td>\n",
       "      <td>77</td>\n",
       "      <td>90</td>\n",
       "      <td>369.600000</td>\n",
       "    </tr>\n",
       "  </tbody>\n",
       "</table>\n",
       "<p>9134 rows × 5 columns</p>\n",
       "</div>"
      ],
      "text/plain": [
       "      customer_lifetime_value  income  monthly_premium_auto  \\\n",
       "0                 2763.519279   56274                    69   \n",
       "1                 6979.535903       0                    94   \n",
       "2                12887.431650   48767                   108   \n",
       "3                 7645.861827       0                   106   \n",
       "4                 2813.692575   43836                    73   \n",
       "...                       ...     ...                   ...   \n",
       "9129             23405.987980   71941                    73   \n",
       "9130              3096.511217   21604                    79   \n",
       "9131              8163.890428       0                    85   \n",
       "9132              7524.442436   21941                    96   \n",
       "9133              2611.836866       0                    77   \n",
       "\n",
       "      months_since_policy_inception  total_claim_amount  \n",
       "0                                 5          384.811147  \n",
       "1                                42         1131.464935  \n",
       "2                                38          566.472247  \n",
       "3                                65          529.881344  \n",
       "4                                44          138.130879  \n",
       "...                             ...                 ...  \n",
       "9129                             89          198.234764  \n",
       "9130                             28          379.200000  \n",
       "9131                             37          790.784983  \n",
       "9132                              3          691.200000  \n",
       "9133                             90          369.600000  \n",
       "\n",
       "[9134 rows x 5 columns]"
      ]
     },
     "execution_count": 16,
     "metadata": {},
     "output_type": "execute_result"
    }
   ],
   "source": [
    "continuous"
   ]
  },
  {
   "cell_type": "code",
   "execution_count": 17,
   "id": "0cef77bf",
   "metadata": {},
   "outputs": [],
   "source": [
    "data =pd.concat([discrete,continuous], axis =1)"
   ]
  },
  {
   "cell_type": "markdown",
   "id": "f72cf336",
   "metadata": {},
   "source": [
    "# Lab | Feature extraction"
   ]
  },
  {
   "cell_type": "code",
   "execution_count": 18,
   "id": "1708d350",
   "metadata": {
    "scrolled": true
   },
   "outputs": [
    {
     "data": {
      "text/plain": [
       "(9134, 23)"
      ]
     },
     "execution_count": 18,
     "metadata": {},
     "output_type": "execute_result"
    }
   ],
   "source": [
    "data.shape"
   ]
  },
  {
   "cell_type": "markdown",
   "id": "62048e3f",
   "metadata": {},
   "source": [
    "\n",
    "   1. Open the categoricals variable we created before.\n"
   ]
  },
  {
   "cell_type": "code",
   "execution_count": 19,
   "id": "cf347cfd",
   "metadata": {},
   "outputs": [
    {
     "data": {
      "text/html": [
       "<div>\n",
       "<style scoped>\n",
       "    .dataframe tbody tr th:only-of-type {\n",
       "        vertical-align: middle;\n",
       "    }\n",
       "\n",
       "    .dataframe tbody tr th {\n",
       "        vertical-align: top;\n",
       "    }\n",
       "\n",
       "    .dataframe thead th {\n",
       "        text-align: right;\n",
       "    }\n",
       "</style>\n",
       "<table border=\"1\" class=\"dataframe\">\n",
       "  <thead>\n",
       "    <tr style=\"text-align: right;\">\n",
       "      <th></th>\n",
       "      <th>state</th>\n",
       "      <th>response</th>\n",
       "      <th>coverage</th>\n",
       "      <th>education</th>\n",
       "      <th>employmentstatus</th>\n",
       "      <th>gender</th>\n",
       "      <th>location_code</th>\n",
       "      <th>marital_status</th>\n",
       "      <th>policy_type</th>\n",
       "      <th>policy</th>\n",
       "      <th>renew_offer_type</th>\n",
       "      <th>sales_channel</th>\n",
       "      <th>vehicle_class</th>\n",
       "      <th>vehicle_size</th>\n",
       "      <th>months_since_last_claim</th>\n",
       "      <th>number_of_open_complaints</th>\n",
       "      <th>number_of_policies</th>\n",
       "    </tr>\n",
       "  </thead>\n",
       "  <tbody>\n",
       "    <tr>\n",
       "      <th>0</th>\n",
       "      <td>Washington</td>\n",
       "      <td>No</td>\n",
       "      <td>Basic</td>\n",
       "      <td>Bachelor</td>\n",
       "      <td>Employed</td>\n",
       "      <td>F</td>\n",
       "      <td>Suburban</td>\n",
       "      <td>Married</td>\n",
       "      <td>Corporate Auto</td>\n",
       "      <td>Corporate L3</td>\n",
       "      <td>Offer1</td>\n",
       "      <td>Agent</td>\n",
       "      <td>Two-Door Car</td>\n",
       "      <td>Medsize</td>\n",
       "      <td>32</td>\n",
       "      <td>0</td>\n",
       "      <td>1</td>\n",
       "    </tr>\n",
       "    <tr>\n",
       "      <th>1</th>\n",
       "      <td>Arizona</td>\n",
       "      <td>No</td>\n",
       "      <td>Extended</td>\n",
       "      <td>Bachelor</td>\n",
       "      <td>Unemployed</td>\n",
       "      <td>F</td>\n",
       "      <td>Suburban</td>\n",
       "      <td>Single</td>\n",
       "      <td>Personal Auto</td>\n",
       "      <td>Personal L3</td>\n",
       "      <td>Offer3</td>\n",
       "      <td>Agent</td>\n",
       "      <td>Four-Door Car</td>\n",
       "      <td>Medsize</td>\n",
       "      <td>13</td>\n",
       "      <td>0</td>\n",
       "      <td>8</td>\n",
       "    </tr>\n",
       "    <tr>\n",
       "      <th>2</th>\n",
       "      <td>Nevada</td>\n",
       "      <td>No</td>\n",
       "      <td>Premium</td>\n",
       "      <td>Bachelor</td>\n",
       "      <td>Employed</td>\n",
       "      <td>F</td>\n",
       "      <td>Suburban</td>\n",
       "      <td>Married</td>\n",
       "      <td>Personal Auto</td>\n",
       "      <td>Personal L3</td>\n",
       "      <td>Offer1</td>\n",
       "      <td>Agent</td>\n",
       "      <td>Two-Door Car</td>\n",
       "      <td>Medsize</td>\n",
       "      <td>18</td>\n",
       "      <td>0</td>\n",
       "      <td>2</td>\n",
       "    </tr>\n",
       "    <tr>\n",
       "      <th>3</th>\n",
       "      <td>California</td>\n",
       "      <td>No</td>\n",
       "      <td>Basic</td>\n",
       "      <td>Bachelor</td>\n",
       "      <td>Unemployed</td>\n",
       "      <td>M</td>\n",
       "      <td>Suburban</td>\n",
       "      <td>Married</td>\n",
       "      <td>Corporate Auto</td>\n",
       "      <td>Corporate L2</td>\n",
       "      <td>Offer1</td>\n",
       "      <td>Call Center</td>\n",
       "      <td>SUV</td>\n",
       "      <td>Medsize</td>\n",
       "      <td>18</td>\n",
       "      <td>0</td>\n",
       "      <td>7</td>\n",
       "    </tr>\n",
       "    <tr>\n",
       "      <th>4</th>\n",
       "      <td>Washington</td>\n",
       "      <td>No</td>\n",
       "      <td>Basic</td>\n",
       "      <td>Bachelor</td>\n",
       "      <td>Employed</td>\n",
       "      <td>M</td>\n",
       "      <td>Rural</td>\n",
       "      <td>Single</td>\n",
       "      <td>Personal Auto</td>\n",
       "      <td>Personal L1</td>\n",
       "      <td>Offer1</td>\n",
       "      <td>Agent</td>\n",
       "      <td>Four-Door Car</td>\n",
       "      <td>Medsize</td>\n",
       "      <td>12</td>\n",
       "      <td>0</td>\n",
       "      <td>1</td>\n",
       "    </tr>\n",
       "  </tbody>\n",
       "</table>\n",
       "</div>"
      ],
      "text/plain": [
       "        state response  coverage education employmentstatus gender  \\\n",
       "0  Washington       No     Basic  Bachelor         Employed      F   \n",
       "1     Arizona       No  Extended  Bachelor       Unemployed      F   \n",
       "2      Nevada       No   Premium  Bachelor         Employed      F   \n",
       "3  California       No     Basic  Bachelor       Unemployed      M   \n",
       "4  Washington       No     Basic  Bachelor         Employed      M   \n",
       "\n",
       "  location_code marital_status     policy_type        policy renew_offer_type  \\\n",
       "0      Suburban        Married  Corporate Auto  Corporate L3           Offer1   \n",
       "1      Suburban         Single   Personal Auto   Personal L3           Offer3   \n",
       "2      Suburban        Married   Personal Auto   Personal L3           Offer1   \n",
       "3      Suburban        Married  Corporate Auto  Corporate L2           Offer1   \n",
       "4         Rural         Single   Personal Auto   Personal L1           Offer1   \n",
       "\n",
       "  sales_channel  vehicle_class vehicle_size months_since_last_claim  \\\n",
       "0         Agent   Two-Door Car      Medsize                      32   \n",
       "1         Agent  Four-Door Car      Medsize                      13   \n",
       "2         Agent   Two-Door Car      Medsize                      18   \n",
       "3   Call Center            SUV      Medsize                      18   \n",
       "4         Agent  Four-Door Car      Medsize                      12   \n",
       "\n",
       "  number_of_open_complaints number_of_policies  \n",
       "0                         0                  1  \n",
       "1                         0                  8  \n",
       "2                         0                  2  \n",
       "3                         0                  7  \n",
       "4                         0                  1  "
      ]
     },
     "execution_count": 19,
     "metadata": {},
     "output_type": "execute_result"
    }
   ],
   "source": [
    "categoricals = data.select_dtypes(object)\n",
    "categoricals.head()"
   ]
  },
  {
   "cell_type": "markdown",
   "id": "d56251f1",
   "metadata": {},
   "source": [
    "2.Plot all the categorical variables with the proper plot. What can you see?"
   ]
  },
  {
   "cell_type": "code",
   "execution_count": 20,
   "id": "de9a3358",
   "metadata": {},
   "outputs": [
    {
     "name": "stdout",
     "output_type": "stream",
     "text": [
      "COL NAME:  state\n",
      "  TYPE:  object\n",
      "  % OF UNIQUE VALUES:  0.054740529888329316\n",
      "  Values:  ['Washington' 'Arizona' 'Nevada' 'California' 'Oregon']\n",
      "  SAMPLE:  Washington\n",
      "\n",
      "COL NAME:  response\n",
      "  TYPE:  object\n",
      "  % OF UNIQUE VALUES:  0.02189621195533173\n",
      "  Values:  ['No' 'Yes']\n",
      "  SAMPLE:  No\n",
      "\n",
      "COL NAME:  coverage\n",
      "  TYPE:  object\n",
      "  % OF UNIQUE VALUES:  0.032844317932997594\n",
      "  Values:  ['Basic' 'Extended' 'Premium']\n",
      "  SAMPLE:  Basic\n",
      "\n",
      "COL NAME:  education\n",
      "  TYPE:  object\n",
      "  % OF UNIQUE VALUES:  0.054740529888329316\n",
      "  Values:  ['Bachelor' 'College' 'Master' 'High School or Below' 'Doctor']\n",
      "  SAMPLE:  Bachelor\n",
      "\n",
      "COL NAME:  employmentstatus\n",
      "  TYPE:  object\n",
      "  % OF UNIQUE VALUES:  0.054740529888329316\n",
      "  Values:  ['Employed' 'Unemployed' 'Medical Leave' 'Disabled' 'Retired']\n",
      "  SAMPLE:  Employed\n",
      "\n",
      "COL NAME:  gender\n",
      "  TYPE:  object\n",
      "  % OF UNIQUE VALUES:  0.02189621195533173\n",
      "  Values:  ['F' 'M']\n",
      "  SAMPLE:  F\n",
      "\n",
      "COL NAME:  location_code\n",
      "  TYPE:  object\n",
      "  % OF UNIQUE VALUES:  0.032844317932997594\n",
      "  Values:  ['Suburban' 'Rural' 'Urban']\n",
      "  SAMPLE:  Suburban\n",
      "\n",
      "COL NAME:  marital_status\n",
      "  TYPE:  object\n",
      "  % OF UNIQUE VALUES:  0.032844317932997594\n",
      "  Values:  ['Married' 'Single' 'Divorced']\n",
      "  SAMPLE:  Married\n",
      "\n",
      "COL NAME:  policy_type\n",
      "  TYPE:  object\n",
      "  % OF UNIQUE VALUES:  0.032844317932997594\n",
      "  Values:  ['Corporate Auto' 'Personal Auto' 'Special Auto']\n",
      "  SAMPLE:  Corporate Auto\n",
      "\n",
      "COL NAME:  policy\n",
      "  TYPE:  object\n",
      "  % OF UNIQUE VALUES:  0.09853295379899278\n",
      "  Values:  ['Corporate L3' 'Personal L3' 'Corporate L2' 'Personal L1' 'Special L2'\n",
      " 'Corporate L1' 'Personal L2' 'Special L1' 'Special L3']\n",
      "  SAMPLE:  Corporate L3\n",
      "\n",
      "COL NAME:  renew_offer_type\n",
      "  TYPE:  object\n",
      "  % OF UNIQUE VALUES:  0.04379242391066346\n",
      "  Values:  ['Offer1' 'Offer3' 'Offer2' 'Offer4']\n",
      "  SAMPLE:  Offer1\n",
      "\n",
      "COL NAME:  sales_channel\n",
      "  TYPE:  object\n",
      "  % OF UNIQUE VALUES:  0.04379242391066346\n",
      "  Values:  ['Agent' 'Call Center' 'Web' 'Branch']\n",
      "  SAMPLE:  Agent\n",
      "\n",
      "COL NAME:  vehicle_class\n",
      "  TYPE:  object\n",
      "  % OF UNIQUE VALUES:  0.06568863586599519\n",
      "  Values:  ['Two-Door Car' 'Four-Door Car' 'SUV' 'Luxury SUV' 'Sports Car'\n",
      " 'Luxury Car']\n",
      "  SAMPLE:  Two-Door Car\n",
      "\n",
      "COL NAME:  vehicle_size\n",
      "  TYPE:  object\n",
      "  % OF UNIQUE VALUES:  0.032844317932997594\n",
      "  Values:  ['Medsize' 'Small' 'Large']\n",
      "  SAMPLE:  Medsize\n",
      "\n",
      "COL NAME:  months_since_last_claim\n",
      "  TYPE:  object\n",
      "  % OF UNIQUE VALUES:  0.3941318151959711\n",
      "  Values:  [32 13 18 12 14 0 17 23 27 9 21 11 31 8 4 30 22 15 33 1 19 28 10 7 3 5 20\n",
      " 24 29 34 6 35 2 16 26 25]\n",
      "  SAMPLE:  32\n",
      "\n",
      "COL NAME:  number_of_open_complaints\n",
      "  TYPE:  object\n",
      "  % OF UNIQUE VALUES:  0.06568863586599519\n",
      "  Values:  [0 2 1 3 5 4]\n",
      "  SAMPLE:  0\n",
      "\n",
      "COL NAME:  number_of_policies\n",
      "  TYPE:  object\n",
      "  % OF UNIQUE VALUES:  0.09853295379899278\n",
      "  Values:  [1 8 2 7 9 4 3 6 5]\n",
      "  SAMPLE:  1\n",
      "\n"
     ]
    },
    {
     "data": {
      "text/plain": [
       "()"
      ]
     },
     "execution_count": 20,
     "metadata": {},
     "output_type": "execute_result"
    }
   ],
   "source": [
    "check_dtypes(categoricals)"
   ]
  },
  {
   "cell_type": "code",
   "execution_count": 21,
   "id": "d0ee5d61",
   "metadata": {},
   "outputs": [
    {
     "data": {
      "image/png": "[encoded data removed]",
      "text/plain": [
       "<Figure size 432x288 with 1 Axes>"
      ]
     },
     "metadata": {
      "needs_background": "light"
     },
     "output_type": "display_data"
    },
    {
     "data": {
      "image/png": "[encoded data removed]",
      "text/plain": [
       "<Figure size 432x288 with 1 Axes>"
      ]
     },
     "metadata": {
      "needs_background": "light"
     },
     "output_type": "display_data"
    },
    {
     "data": {
      "image/png": "[encoded data removed]",
      "text/plain": [
       "<Figure size 432x288 with 1 Axes>"
      ]
     },
     "metadata": {
      "needs_background": "light"
     },
     "output_type": "display_data"
    },
    {
     "data": {
      "image/png": "[encoded data removed]",
      "text/plain": [
       "<Figure size 432x288 with 1 Axes>"
      ]
     },
     "metadata": {
      "needs_background": "light"
     },
     "output_type": "display_data"
    },
    {
     "data": {
      "image/png": "[encoded data removed]",
      "text/plain": [
       "<Figure size 432x288 with 1 Axes>"
      ]
     },
     "metadata": {
      "needs_background": "light"
     },
     "output_type": "display_data"
    },
    {
     "data": {
      "image/png": "[encoded data removed]",
      "text/plain": [
       "<Figure size 432x288 with 1 Axes>"
      ]
     },
     "metadata": {
      "needs_background": "light"
     },
     "output_type": "display_data"
    },
    {
     "data": {
      "image/png": "[encoded data removed]",
      "text/plain": [
       "<Figure size 432x288 with 1 Axes>"
      ]
     },
     "metadata": {
      "needs_background": "light"
     },
     "output_type": "display_data"
    },
    {
     "data": {
      "image/png": "[encoded data removed]",
      "text/plain": [
       "<Figure size 432x288 with 1 Axes>"
      ]
     },
     "metadata": {
      "needs_background": "light"
     },
     "output_type": "display_data"
    },
    {
     "data": {
      "image/png": "[encoded data removed]",
      "text/plain": [
       "<Figure size 432x288 with 1 Axes>"
      ]
     },
     "metadata": {
      "needs_background": "light"
     },
     "output_type": "display_data"
    },
    {
     "data": {
      "image/png": "[encoded data removed]",
      "text/plain": [
       "<Figure size 432x288 with 1 Axes>"
      ]
     },
     "metadata": {
      "needs_background": "light"
     },
     "output_type": "display_data"
    },
    {
     "data": {
      "image/png": "[encoded data removed]",
      "text/plain": [
       "<Figure size 432x288 with 1 Axes>"
      ]
     },
     "metadata": {
      "needs_background": "light"
     },
     "output_type": "display_data"
    },
    {
     "data": {
      "image/png": "[encoded data removed]",
      "text/plain": [
       "<Figure size 432x288 with 1 Axes>"
      ]
     },
     "metadata": {
      "needs_background": "light"
     },
     "output_type": "display_data"
    },
    {
     "data": {
      "image/png": "[encoded data removed]",
      "text/plain": [
       "<Figure size 432x288 with 1 Axes>"
      ]
     },
     "metadata": {
      "needs_background": "light"
     },
     "output_type": "display_data"
    },
    {
     "data": {
      "image/png": "[encoded data removed]",
      "text/plain": [
       "<Figure size 432x288 with 1 Axes>"
      ]
     },
     "metadata": {
      "needs_background": "light"
     },
     "output_type": "display_data"
    },
    {
     "data": {
      "image/png": "[encoded data removed]",
      "text/plain": [
       "<Figure size 432x288 with 1 Axes>"
      ]
     },
     "metadata": {
      "needs_background": "light"
     },
     "output_type": "display_data"
    },
    {
     "data": {
      "image/png": "[encoded data removed]",
      "text/plain": [
       "<Figure size 432x288 with 1 Axes>"
      ]
     },
     "metadata": {
      "needs_background": "light"
     },
     "output_type": "display_data"
    },
    {
     "data": {
      "image/png": "[encoded data removed]",
      "text/plain": [
       "<Figure size 432x288 with 1 Axes>"
      ]
     },
     "metadata": {
      "needs_background": "light"
     },
     "output_type": "display_data"
    },
    {
     "data": {
      "text/plain": [
       "<Figure size 432x288 with 0 Axes>"
      ]
     },
     "metadata": {},
     "output_type": "display_data"
    }
   ],
   "source": [
    "\n",
    "for i in categoricals.columns:\n",
    "    sns.histplot(categoricals[i])\n",
    "    plt.figure(i)"
   ]
  },
  {
   "cell_type": "markdown",
   "id": "5e466d3c",
   "metadata": {},
   "source": [
    "# cleaning_wrangling"
   ]
  },
  {
   "cell_type": "markdown",
   "id": "1a2b7624",
   "metadata": {},
   "source": [
    "customer_df = pd.read_csv('new.csv',index_col=0) \n"
   ]
  },
  {
   "cell_type": "markdown",
   "id": "fc29c81a",
   "metadata": {},
   "source": [
    "We will start with removing outliers. So far, we have discussed different methods to remove outliers. Use the one you feel more comfortable with, define a function for that. Use the function to remove the outliers and apply it to the dataframe.\n",
    "\n"
   ]
  },
  {
   "cell_type": "code",
   "execution_count": 22,
   "id": "0135dec5",
   "metadata": {},
   "outputs": [],
   "source": [
    "def outl_cleaning(DataFrame):\n",
    "    numerical = DataFrame.select_dtypes(include = np.number)\n",
    "    categorical = DataFrame.select_dtypes(object)\n",
    "    time = DataFrame.select_dtypes(include = np.datetime64)\n",
    "\n",
    "    for x in numerical.columns:\n",
    "        q75,q25 = np.percentile(numerical.loc[:,x],[75,25])\n",
    "        intr_qr = q75-q25\n",
    "        max = q75+(1.5*intr_qr)\n",
    "        min = q25-(1.5*intr_qr)\n",
    "        numerical.loc[numerical[x] < min,x] = np.nan\n",
    "        numerical.loc[numerical[x] > max,x] = np.nan\n",
    "    return(pd.concat([categorical,numerical,time], axis =1))"
   ]
  },
  {
   "cell_type": "code",
   "execution_count": 23,
   "id": "1c800af0",
   "metadata": {},
   "outputs": [
    {
     "name": "stderr",
     "output_type": "stream",
     "text": [
      "C:\\Users\\Kyre\\anaconda3\\lib\\site-packages\\pandas\\core\\indexing.py:1817: SettingWithCopyWarning: \n",
      "A value is trying to be set on a copy of a slice from a DataFrame.\n",
      "Try using .loc[row_indexer,col_indexer] = value instead\n",
      "\n",
      "See the caveats in the documentation: https://pandas.pydata.org/pandas-docs/stable/user_guide/indexing.html#returning-a-view-versus-a-copy\n",
      "  self._setitem_single_column(loc, value, pi)\n"
     ]
    }
   ],
   "source": [
    "data = outl_cleaning(data)"
   ]
  },
  {
   "cell_type": "code",
   "execution_count": 24,
   "id": "261e2058",
   "metadata": {},
   "outputs": [
    {
     "data": {
      "text/html": [
       "<div>\n",
       "<style scoped>\n",
       "    .dataframe tbody tr th:only-of-type {\n",
       "        vertical-align: middle;\n",
       "    }\n",
       "\n",
       "    .dataframe tbody tr th {\n",
       "        vertical-align: top;\n",
       "    }\n",
       "\n",
       "    .dataframe thead th {\n",
       "        text-align: right;\n",
       "    }\n",
       "</style>\n",
       "<table border=\"1\" class=\"dataframe\">\n",
       "  <thead>\n",
       "    <tr style=\"text-align: right;\">\n",
       "      <th></th>\n",
       "      <th>state</th>\n",
       "      <th>response</th>\n",
       "      <th>coverage</th>\n",
       "      <th>education</th>\n",
       "      <th>employmentstatus</th>\n",
       "      <th>gender</th>\n",
       "      <th>location_code</th>\n",
       "      <th>marital_status</th>\n",
       "      <th>policy_type</th>\n",
       "      <th>policy</th>\n",
       "      <th>...</th>\n",
       "      <th>vehicle_size</th>\n",
       "      <th>months_since_last_claim</th>\n",
       "      <th>number_of_open_complaints</th>\n",
       "      <th>number_of_policies</th>\n",
       "      <th>customer_lifetime_value</th>\n",
       "      <th>income</th>\n",
       "      <th>monthly_premium_auto</th>\n",
       "      <th>months_since_policy_inception</th>\n",
       "      <th>total_claim_amount</th>\n",
       "      <th>effective_to_date</th>\n",
       "    </tr>\n",
       "  </thead>\n",
       "  <tbody>\n",
       "    <tr>\n",
       "      <th>0</th>\n",
       "      <td>Washington</td>\n",
       "      <td>No</td>\n",
       "      <td>Basic</td>\n",
       "      <td>Bachelor</td>\n",
       "      <td>Employed</td>\n",
       "      <td>F</td>\n",
       "      <td>Suburban</td>\n",
       "      <td>Married</td>\n",
       "      <td>Corporate Auto</td>\n",
       "      <td>Corporate L3</td>\n",
       "      <td>...</td>\n",
       "      <td>Medsize</td>\n",
       "      <td>32</td>\n",
       "      <td>0</td>\n",
       "      <td>1</td>\n",
       "      <td>2763.519279</td>\n",
       "      <td>56274.0</td>\n",
       "      <td>69.0</td>\n",
       "      <td>5.0</td>\n",
       "      <td>384.811147</td>\n",
       "      <td>2011-02-24</td>\n",
       "    </tr>\n",
       "    <tr>\n",
       "      <th>1</th>\n",
       "      <td>Arizona</td>\n",
       "      <td>No</td>\n",
       "      <td>Extended</td>\n",
       "      <td>Bachelor</td>\n",
       "      <td>Unemployed</td>\n",
       "      <td>F</td>\n",
       "      <td>Suburban</td>\n",
       "      <td>Single</td>\n",
       "      <td>Personal Auto</td>\n",
       "      <td>Personal L3</td>\n",
       "      <td>...</td>\n",
       "      <td>Medsize</td>\n",
       "      <td>13</td>\n",
       "      <td>0</td>\n",
       "      <td>8</td>\n",
       "      <td>6979.535903</td>\n",
       "      <td>0.0</td>\n",
       "      <td>94.0</td>\n",
       "      <td>42.0</td>\n",
       "      <td>NaN</td>\n",
       "      <td>2011-01-31</td>\n",
       "    </tr>\n",
       "    <tr>\n",
       "      <th>2</th>\n",
       "      <td>Nevada</td>\n",
       "      <td>No</td>\n",
       "      <td>Premium</td>\n",
       "      <td>Bachelor</td>\n",
       "      <td>Employed</td>\n",
       "      <td>F</td>\n",
       "      <td>Suburban</td>\n",
       "      <td>Married</td>\n",
       "      <td>Personal Auto</td>\n",
       "      <td>Personal L3</td>\n",
       "      <td>...</td>\n",
       "      <td>Medsize</td>\n",
       "      <td>18</td>\n",
       "      <td>0</td>\n",
       "      <td>2</td>\n",
       "      <td>12887.431650</td>\n",
       "      <td>48767.0</td>\n",
       "      <td>108.0</td>\n",
       "      <td>38.0</td>\n",
       "      <td>566.472247</td>\n",
       "      <td>2011-02-19</td>\n",
       "    </tr>\n",
       "    <tr>\n",
       "      <th>3</th>\n",
       "      <td>California</td>\n",
       "      <td>No</td>\n",
       "      <td>Basic</td>\n",
       "      <td>Bachelor</td>\n",
       "      <td>Unemployed</td>\n",
       "      <td>M</td>\n",
       "      <td>Suburban</td>\n",
       "      <td>Married</td>\n",
       "      <td>Corporate Auto</td>\n",
       "      <td>Corporate L2</td>\n",
       "      <td>...</td>\n",
       "      <td>Medsize</td>\n",
       "      <td>18</td>\n",
       "      <td>0</td>\n",
       "      <td>7</td>\n",
       "      <td>7645.861827</td>\n",
       "      <td>0.0</td>\n",
       "      <td>106.0</td>\n",
       "      <td>65.0</td>\n",
       "      <td>529.881344</td>\n",
       "      <td>2011-01-20</td>\n",
       "    </tr>\n",
       "    <tr>\n",
       "      <th>4</th>\n",
       "      <td>Washington</td>\n",
       "      <td>No</td>\n",
       "      <td>Basic</td>\n",
       "      <td>Bachelor</td>\n",
       "      <td>Employed</td>\n",
       "      <td>M</td>\n",
       "      <td>Rural</td>\n",
       "      <td>Single</td>\n",
       "      <td>Personal Auto</td>\n",
       "      <td>Personal L1</td>\n",
       "      <td>...</td>\n",
       "      <td>Medsize</td>\n",
       "      <td>12</td>\n",
       "      <td>0</td>\n",
       "      <td>1</td>\n",
       "      <td>2813.692575</td>\n",
       "      <td>43836.0</td>\n",
       "      <td>73.0</td>\n",
       "      <td>44.0</td>\n",
       "      <td>138.130879</td>\n",
       "      <td>2011-02-03</td>\n",
       "    </tr>\n",
       "    <tr>\n",
       "      <th>...</th>\n",
       "      <td>...</td>\n",
       "      <td>...</td>\n",
       "      <td>...</td>\n",
       "      <td>...</td>\n",
       "      <td>...</td>\n",
       "      <td>...</td>\n",
       "      <td>...</td>\n",
       "      <td>...</td>\n",
       "      <td>...</td>\n",
       "      <td>...</td>\n",
       "      <td>...</td>\n",
       "      <td>...</td>\n",
       "      <td>...</td>\n",
       "      <td>...</td>\n",
       "      <td>...</td>\n",
       "      <td>...</td>\n",
       "      <td>...</td>\n",
       "      <td>...</td>\n",
       "      <td>...</td>\n",
       "      <td>...</td>\n",
       "      <td>...</td>\n",
       "    </tr>\n",
       "    <tr>\n",
       "      <th>9129</th>\n",
       "      <td>California</td>\n",
       "      <td>No</td>\n",
       "      <td>Basic</td>\n",
       "      <td>Bachelor</td>\n",
       "      <td>Employed</td>\n",
       "      <td>M</td>\n",
       "      <td>Urban</td>\n",
       "      <td>Married</td>\n",
       "      <td>Personal Auto</td>\n",
       "      <td>Personal L1</td>\n",
       "      <td>...</td>\n",
       "      <td>Medsize</td>\n",
       "      <td>18</td>\n",
       "      <td>0</td>\n",
       "      <td>2</td>\n",
       "      <td>NaN</td>\n",
       "      <td>71941.0</td>\n",
       "      <td>73.0</td>\n",
       "      <td>89.0</td>\n",
       "      <td>198.234764</td>\n",
       "      <td>2011-02-10</td>\n",
       "    </tr>\n",
       "    <tr>\n",
       "      <th>9130</th>\n",
       "      <td>California</td>\n",
       "      <td>Yes</td>\n",
       "      <td>Extended</td>\n",
       "      <td>College</td>\n",
       "      <td>Employed</td>\n",
       "      <td>F</td>\n",
       "      <td>Suburban</td>\n",
       "      <td>Divorced</td>\n",
       "      <td>Corporate Auto</td>\n",
       "      <td>Corporate L3</td>\n",
       "      <td>...</td>\n",
       "      <td>Medsize</td>\n",
       "      <td>14</td>\n",
       "      <td>0</td>\n",
       "      <td>1</td>\n",
       "      <td>3096.511217</td>\n",
       "      <td>21604.0</td>\n",
       "      <td>79.0</td>\n",
       "      <td>28.0</td>\n",
       "      <td>379.200000</td>\n",
       "      <td>2011-02-12</td>\n",
       "    </tr>\n",
       "    <tr>\n",
       "      <th>9131</th>\n",
       "      <td>California</td>\n",
       "      <td>No</td>\n",
       "      <td>Extended</td>\n",
       "      <td>Bachelor</td>\n",
       "      <td>Unemployed</td>\n",
       "      <td>M</td>\n",
       "      <td>Suburban</td>\n",
       "      <td>Single</td>\n",
       "      <td>Corporate Auto</td>\n",
       "      <td>Corporate L2</td>\n",
       "      <td>...</td>\n",
       "      <td>Medsize</td>\n",
       "      <td>9</td>\n",
       "      <td>3</td>\n",
       "      <td>2</td>\n",
       "      <td>8163.890428</td>\n",
       "      <td>0.0</td>\n",
       "      <td>85.0</td>\n",
       "      <td>37.0</td>\n",
       "      <td>790.784983</td>\n",
       "      <td>2011-02-06</td>\n",
       "    </tr>\n",
       "    <tr>\n",
       "      <th>9132</th>\n",
       "      <td>California</td>\n",
       "      <td>No</td>\n",
       "      <td>Extended</td>\n",
       "      <td>College</td>\n",
       "      <td>Employed</td>\n",
       "      <td>M</td>\n",
       "      <td>Suburban</td>\n",
       "      <td>Married</td>\n",
       "      <td>Personal Auto</td>\n",
       "      <td>Personal L2</td>\n",
       "      <td>...</td>\n",
       "      <td>Large</td>\n",
       "      <td>34</td>\n",
       "      <td>0</td>\n",
       "      <td>3</td>\n",
       "      <td>7524.442436</td>\n",
       "      <td>21941.0</td>\n",
       "      <td>96.0</td>\n",
       "      <td>3.0</td>\n",
       "      <td>691.200000</td>\n",
       "      <td>2011-02-03</td>\n",
       "    </tr>\n",
       "    <tr>\n",
       "      <th>9133</th>\n",
       "      <td>California</td>\n",
       "      <td>No</td>\n",
       "      <td>Extended</td>\n",
       "      <td>College</td>\n",
       "      <td>Unemployed</td>\n",
       "      <td>M</td>\n",
       "      <td>Suburban</td>\n",
       "      <td>Single</td>\n",
       "      <td>Corporate Auto</td>\n",
       "      <td>Corporate L3</td>\n",
       "      <td>...</td>\n",
       "      <td>Medsize</td>\n",
       "      <td>3</td>\n",
       "      <td>0</td>\n",
       "      <td>1</td>\n",
       "      <td>2611.836866</td>\n",
       "      <td>0.0</td>\n",
       "      <td>77.0</td>\n",
       "      <td>90.0</td>\n",
       "      <td>369.600000</td>\n",
       "      <td>2011-02-14</td>\n",
       "    </tr>\n",
       "  </tbody>\n",
       "</table>\n",
       "<p>9134 rows × 23 columns</p>\n",
       "</div>"
      ],
      "text/plain": [
       "           state response  coverage education employmentstatus gender  \\\n",
       "0     Washington       No     Basic  Bachelor         Employed      F   \n",
       "1        Arizona       No  Extended  Bachelor       Unemployed      F   \n",
       "2         Nevada       No   Premium  Bachelor         Employed      F   \n",
       "3     California       No     Basic  Bachelor       Unemployed      M   \n",
       "4     Washington       No     Basic  Bachelor         Employed      M   \n",
       "...          ...      ...       ...       ...              ...    ...   \n",
       "9129  California       No     Basic  Bachelor         Employed      M   \n",
       "9130  California      Yes  Extended   College         Employed      F   \n",
       "9131  California       No  Extended  Bachelor       Unemployed      M   \n",
       "9132  California       No  Extended   College         Employed      M   \n",
       "9133  California       No  Extended   College       Unemployed      M   \n",
       "\n",
       "     location_code marital_status     policy_type        policy  ...  \\\n",
       "0         Suburban        Married  Corporate Auto  Corporate L3  ...   \n",
       "1         Suburban         Single   Personal Auto   Personal L3  ...   \n",
       "2         Suburban        Married   Personal Auto   Personal L3  ...   \n",
       "3         Suburban        Married  Corporate Auto  Corporate L2  ...   \n",
       "4            Rural         Single   Personal Auto   Personal L1  ...   \n",
       "...            ...            ...             ...           ...  ...   \n",
       "9129         Urban        Married   Personal Auto   Personal L1  ...   \n",
       "9130      Suburban       Divorced  Corporate Auto  Corporate L3  ...   \n",
       "9131      Suburban         Single  Corporate Auto  Corporate L2  ...   \n",
       "9132      Suburban        Married   Personal Auto   Personal L2  ...   \n",
       "9133      Suburban         Single  Corporate Auto  Corporate L3  ...   \n",
       "\n",
       "     vehicle_size months_since_last_claim number_of_open_complaints  \\\n",
       "0         Medsize                      32                         0   \n",
       "1         Medsize                      13                         0   \n",
       "2         Medsize                      18                         0   \n",
       "3         Medsize                      18                         0   \n",
       "4         Medsize                      12                         0   \n",
       "...           ...                     ...                       ...   \n",
       "9129      Medsize                      18                         0   \n",
       "9130      Medsize                      14                         0   \n",
       "9131      Medsize                       9                         3   \n",
       "9132        Large                      34                         0   \n",
       "9133      Medsize                       3                         0   \n",
       "\n",
       "     number_of_policies customer_lifetime_value   income monthly_premium_auto  \\\n",
       "0                     1             2763.519279  56274.0                 69.0   \n",
       "1                     8             6979.535903      0.0                 94.0   \n",
       "2                     2            12887.431650  48767.0                108.0   \n",
       "3                     7             7645.861827      0.0                106.0   \n",
       "4                     1             2813.692575  43836.0                 73.0   \n",
       "...                 ...                     ...      ...                  ...   \n",
       "9129                  2                     NaN  71941.0                 73.0   \n",
       "9130                  1             3096.511217  21604.0                 79.0   \n",
       "9131                  2             8163.890428      0.0                 85.0   \n",
       "9132                  3             7524.442436  21941.0                 96.0   \n",
       "9133                  1             2611.836866      0.0                 77.0   \n",
       "\n",
       "      months_since_policy_inception  total_claim_amount  effective_to_date  \n",
       "0                               5.0          384.811147         2011-02-24  \n",
       "1                              42.0                 NaN         2011-01-31  \n",
       "2                              38.0          566.472247         2011-02-19  \n",
       "3                              65.0          529.881344         2011-01-20  \n",
       "4                              44.0          138.130879         2011-02-03  \n",
       "...                             ...                 ...                ...  \n",
       "9129                           89.0          198.234764         2011-02-10  \n",
       "9130                           28.0          379.200000         2011-02-12  \n",
       "9131                           37.0          790.784983         2011-02-06  \n",
       "9132                            3.0          691.200000         2011-02-03  \n",
       "9133                           90.0          369.600000         2011-02-14  \n",
       "\n",
       "[9134 rows x 23 columns]"
      ]
     },
     "execution_count": 24,
     "metadata": {},
     "output_type": "execute_result"
    }
   ],
   "source": [
    "data"
   ]
  },
  {
   "cell_type": "code",
   "execution_count": 25,
   "id": "6463c81e",
   "metadata": {},
   "outputs": [
    {
     "data": {
      "text/plain": [
       "state                              0\n",
       "response                           0\n",
       "coverage                           0\n",
       "education                          0\n",
       "employmentstatus                   0\n",
       "gender                             0\n",
       "location_code                      0\n",
       "marital_status                     0\n",
       "policy_type                        0\n",
       "policy                             0\n",
       "renew_offer_type                   0\n",
       "sales_channel                      0\n",
       "vehicle_class                      0\n",
       "vehicle_size                       0\n",
       "months_since_last_claim            0\n",
       "number_of_open_complaints          0\n",
       "number_of_policies                 0\n",
       "customer_lifetime_value          817\n",
       "income                             0\n",
       "monthly_premium_auto             430\n",
       "months_since_policy_inception      0\n",
       "total_claim_amount               453\n",
       "effective_to_date                  0\n",
       "dtype: int64"
      ]
     },
     "execution_count": 25,
     "metadata": {},
     "output_type": "execute_result"
    }
   ],
   "source": [
    "data.isnull().sum()"
   ]
  },
  {
   "cell_type": "code",
   "execution_count": 26,
   "id": "f74a743d",
   "metadata": {},
   "outputs": [],
   "source": [
    "def fix_nan(DataFrame):\n",
    "    numerical = DataFrame.select_dtypes(include = np.number)\n",
    "    categorical = DataFrame.select_dtypes(object)\n",
    "    time = DataFrame.select_dtypes(include = np.datetime64)\n",
    "\n",
    "    numerical = numerical.fillna(numerical.median())\n",
    "    return(pd.concat([categorical,numerical,time], axis =1))"
   ]
  },
  {
   "cell_type": "code",
   "execution_count": 27,
   "id": "ac7fec7a",
   "metadata": {},
   "outputs": [],
   "source": [
    "data = fix_nan(data)"
   ]
  },
  {
   "cell_type": "code",
   "execution_count": 28,
   "id": "d57af8aa",
   "metadata": {},
   "outputs": [
    {
     "data": {
      "text/plain": [
       "state                            0\n",
       "response                         0\n",
       "coverage                         0\n",
       "education                        0\n",
       "employmentstatus                 0\n",
       "gender                           0\n",
       "location_code                    0\n",
       "marital_status                   0\n",
       "policy_type                      0\n",
       "policy                           0\n",
       "renew_offer_type                 0\n",
       "sales_channel                    0\n",
       "vehicle_class                    0\n",
       "vehicle_size                     0\n",
       "months_since_last_claim          0\n",
       "number_of_open_complaints        0\n",
       "number_of_policies               0\n",
       "customer_lifetime_value          0\n",
       "income                           0\n",
       "monthly_premium_auto             0\n",
       "months_since_policy_inception    0\n",
       "total_claim_amount               0\n",
       "effective_to_date                0\n",
       "dtype: int64"
      ]
     },
     "execution_count": 28,
     "metadata": {},
     "output_type": "execute_result"
    }
   ],
   "source": [
    "data.isnull().sum()"
   ]
  },
  {
   "cell_type": "markdown",
   "id": "31c658f7",
   "metadata": {},
   "source": [
    "Create a copy of the dataframe for the data wrangling."
   ]
  },
  {
   "cell_type": "code",
   "execution_count": 29,
   "id": "7fbcd10b",
   "metadata": {},
   "outputs": [],
   "source": [
    "data_copy = data.copy()"
   ]
  },
  {
   "cell_type": "code",
   "execution_count": 30,
   "id": "60c72400",
   "metadata": {},
   "outputs": [
    {
     "data": {
      "text/plain": [
       "state                            0\n",
       "response                         0\n",
       "coverage                         0\n",
       "education                        0\n",
       "employmentstatus                 0\n",
       "gender                           0\n",
       "location_code                    0\n",
       "marital_status                   0\n",
       "policy_type                      0\n",
       "policy                           0\n",
       "renew_offer_type                 0\n",
       "sales_channel                    0\n",
       "vehicle_class                    0\n",
       "vehicle_size                     0\n",
       "months_since_last_claim          0\n",
       "number_of_open_complaints        0\n",
       "number_of_policies               0\n",
       "customer_lifetime_value          0\n",
       "income                           0\n",
       "monthly_premium_auto             0\n",
       "months_since_policy_inception    0\n",
       "total_claim_amount               0\n",
       "effective_to_date                0\n",
       "dtype: int64"
      ]
     },
     "execution_count": 30,
     "metadata": {},
     "output_type": "execute_result"
    }
   ],
   "source": [
    "data_copy.isnull().sum()"
   ]
  },
  {
   "cell_type": "markdown",
   "id": "75778d85",
   "metadata": {},
   "source": [
    "Normalize the continuous variables. You can use any one method you want."
   ]
  },
  {
   "cell_type": "code",
   "execution_count": 31,
   "id": "5ba7c6d4",
   "metadata": {},
   "outputs": [],
   "source": [
    "from sklearn.preprocessing import MinMaxScaler\n"
   ]
  },
  {
   "cell_type": "code",
   "execution_count": 32,
   "id": "78413744",
   "metadata": {},
   "outputs": [],
   "source": [
    "def normalizer (DataFrame):\n",
    "    numerical = DataFrame.select_dtypes(include = np.number)\n",
    "    categorical = DataFrame.select_dtypes(object)\n",
    "    time = DataFrame.select_dtypes(include = np.datetime64)\n",
    "\n",
    "    #Normalize (numerical).\n",
    "    transformer = MinMaxScaler().fit(numerical) ### THIS IS THE ONE FOR NORMALIZING\n",
    "    x_minmax = transformer.transform(numerical)\n",
    "    numerical = pd.DataFrame(x_minmax, index=numerical.index, columns=numerical.columns)\n",
    "    \n",
    "    return(pd.concat([categorical,numerical,time], axis =1))"
   ]
  },
  {
   "cell_type": "code",
   "execution_count": 33,
   "id": "1592aeb8",
   "metadata": {},
   "outputs": [],
   "source": [
    "data_copy= normalizer(data_copy)"
   ]
  },
  {
   "cell_type": "code",
   "execution_count": 34,
   "id": "d9f70b15",
   "metadata": {},
   "outputs": [
    {
     "data": {
      "text/plain": [
       "Index(['state', 'response', 'coverage', 'education', 'employmentstatus',\n",
       "       'gender', 'location_code', 'marital_status', 'policy_type', 'policy',\n",
       "       'renew_offer_type', 'sales_channel', 'vehicle_class', 'vehicle_size',\n",
       "       'months_since_last_claim', 'number_of_open_complaints',\n",
       "       'number_of_policies', 'customer_lifetime_value', 'income',\n",
       "       'monthly_premium_auto', 'months_since_policy_inception',\n",
       "       'total_claim_amount', 'effective_to_date'],\n",
       "      dtype='object')"
      ]
     },
     "execution_count": 34,
     "metadata": {},
     "output_type": "execute_result"
    }
   ],
   "source": [
    "data_copy.columns"
   ]
  },
  {
   "cell_type": "markdown",
   "id": "c16fa735",
   "metadata": {},
   "source": [
    "Encode the categorical variables"
   ]
  },
  {
   "cell_type": "code",
   "execution_count": 35,
   "id": "bb4cfe9d",
   "metadata": {
    "scrolled": true
   },
   "outputs": [
    {
     "data": {
      "text/plain": [
       "array(['Washington', 'Arizona', 'Nevada', 'California', 'Oregon'],\n",
       "      dtype=object)"
      ]
     },
     "execution_count": 35,
     "metadata": {},
     "output_type": "execute_result"
    }
   ],
   "source": [
    "data_copy['state'].unique()"
   ]
  },
  {
   "cell_type": "code",
   "execution_count": 36,
   "id": "9324961e",
   "metadata": {},
   "outputs": [],
   "source": [
    "from sklearn.preprocessing import OrdinalEncoder"
   ]
  },
  {
   "cell_type": "code",
   "execution_count": 37,
   "id": "b9307c46",
   "metadata": {},
   "outputs": [],
   "source": [
    "def encode_cat(DataFrame):\n",
    "    numerical = DataFrame.select_dtypes(include = np.number)\n",
    "    categorical = DataFrame.select_dtypes(object)\n",
    "\n",
    "    \n",
    "    time = DataFrame.select_dtypes(include = np.datetime64)\n",
    "    tempCov = categorical[\"coverage\"].map({\"Basic\" : 0, \"Extended\" : 1, \"Premium\" : 2}).astype(np.uint8)\n",
    "    tempHot= categorical[['number_of_policies','number_of_open_complaints','gender','education','response','state','marital_status','policy_type','policy','renew_offer_type','sales_channel','vehicle_class']].copy()\n",
    "    tempHot= pd.get_dummies(tempHot, drop_first=True)\n",
    "\n",
    "    tempOrd= categorical[['months_since_last_claim','employmentstatus','location_code','vehicle_size']].copy()\n",
    "    encoder = OrdinalEncoder(dtype = np.uint8)\n",
    "    tempOrd = pd.DataFrame(encoder.fit_transform(tempOrd), index=tempOrd.index, columns=tempOrd.columns)\n",
    "\n",
    "    categorical = pd.concat([tempCov,tempOrd,tempHot], axis =1)\n",
    "    return(pd.concat([categorical,numerical,time], axis =1))    "
   ]
  },
  {
   "cell_type": "code",
   "execution_count": 38,
   "id": "1324efd6",
   "metadata": {},
   "outputs": [],
   "source": [
    "data_copy = encode_cat(data_copy)"
   ]
  },
  {
   "cell_type": "code",
   "execution_count": 39,
   "id": "ee0dbf12",
   "metadata": {},
   "outputs": [
    {
     "data": {
      "text/plain": [
       "coverage                                   uint8\n",
       "months_since_last_claim                    uint8\n",
       "employmentstatus                           uint8\n",
       "location_code                              uint8\n",
       "vehicle_size                               uint8\n",
       "number_of_policies_2                       uint8\n",
       "number_of_policies_3                       uint8\n",
       "number_of_policies_4                       uint8\n",
       "number_of_policies_5                       uint8\n",
       "number_of_policies_6                       uint8\n",
       "number_of_policies_7                       uint8\n",
       "number_of_policies_8                       uint8\n",
       "number_of_policies_9                       uint8\n",
       "number_of_open_complaints_1                uint8\n",
       "number_of_open_complaints_2                uint8\n",
       "number_of_open_complaints_3                uint8\n",
       "number_of_open_complaints_4                uint8\n",
       "number_of_open_complaints_5                uint8\n",
       "gender_M                                   uint8\n",
       "education_College                          uint8\n",
       "education_Doctor                           uint8\n",
       "education_High School or Below             uint8\n",
       "education_Master                           uint8\n",
       "response_Yes                               uint8\n",
       "state_California                           uint8\n",
       "state_Nevada                               uint8\n",
       "state_Oregon                               uint8\n",
       "state_Washington                           uint8\n",
       "marital_status_Married                     uint8\n",
       "marital_status_Single                      uint8\n",
       "policy_type_Personal Auto                  uint8\n",
       "policy_type_Special Auto                   uint8\n",
       "policy_Corporate L2                        uint8\n",
       "policy_Corporate L3                        uint8\n",
       "policy_Personal L1                         uint8\n",
       "policy_Personal L2                         uint8\n",
       "policy_Personal L3                         uint8\n",
       "policy_Special L1                          uint8\n",
       "policy_Special L2                          uint8\n",
       "policy_Special L3                          uint8\n",
       "renew_offer_type_Offer2                    uint8\n",
       "renew_offer_type_Offer3                    uint8\n",
       "renew_offer_type_Offer4                    uint8\n",
       "sales_channel_Branch                       uint8\n",
       "sales_channel_Call Center                  uint8\n",
       "sales_channel_Web                          uint8\n",
       "vehicle_class_Luxury Car                   uint8\n",
       "vehicle_class_Luxury SUV                   uint8\n",
       "vehicle_class_SUV                          uint8\n",
       "vehicle_class_Sports Car                   uint8\n",
       "vehicle_class_Two-Door Car                 uint8\n",
       "customer_lifetime_value                  float64\n",
       "income                                   float64\n",
       "monthly_premium_auto                     float64\n",
       "months_since_policy_inception            float64\n",
       "total_claim_amount                       float64\n",
       "effective_to_date                 datetime64[ns]\n",
       "dtype: object"
      ]
     },
     "execution_count": 39,
     "metadata": {},
     "output_type": "execute_result"
    }
   ],
   "source": [
    "data_copy.dtypes"
   ]
  },
  {
   "cell_type": "markdown",
   "id": "3fbaeaaa",
   "metadata": {},
   "source": [
    "The time variable can be useful. Try to transform its data into a useful one. Hint: Day week and month as integers might be useful."
   ]
  },
  {
   "cell_type": "code",
   "execution_count": 40,
   "id": "0cb48943",
   "metadata": {},
   "outputs": [],
   "source": [
    "data_copy['day'] = data_copy['effective_to_date'].dt.dayofyear\n",
    "data_copy = data_copy.drop(['effective_to_date'], axis=1)"
   ]
  },
  {
   "cell_type": "code",
   "execution_count": 41,
   "id": "35c2269a",
   "metadata": {},
   "outputs": [
    {
     "data": {
      "text/plain": [
       "0       55\n",
       "1       31\n",
       "2       50\n",
       "3       20\n",
       "4       34\n",
       "        ..\n",
       "9129    41\n",
       "9130    43\n",
       "9131    37\n",
       "9132    34\n",
       "9133    45\n",
       "Name: day, Length: 9134, dtype: int64"
      ]
     },
     "execution_count": 41,
     "metadata": {},
     "output_type": "execute_result"
    }
   ],
   "source": [
    "data_copy['day']"
   ]
  },
  {
   "cell_type": "code",
   "execution_count": 42,
   "id": "989455a1",
   "metadata": {},
   "outputs": [
    {
     "data": {
      "text/plain": [
       "coverage                            uint8\n",
       "months_since_last_claim             uint8\n",
       "employmentstatus                    uint8\n",
       "location_code                       uint8\n",
       "vehicle_size                        uint8\n",
       "number_of_policies_2                uint8\n",
       "number_of_policies_3                uint8\n",
       "number_of_policies_4                uint8\n",
       "number_of_policies_5                uint8\n",
       "number_of_policies_6                uint8\n",
       "number_of_policies_7                uint8\n",
       "number_of_policies_8                uint8\n",
       "number_of_policies_9                uint8\n",
       "number_of_open_complaints_1         uint8\n",
       "number_of_open_complaints_2         uint8\n",
       "number_of_open_complaints_3         uint8\n",
       "number_of_open_complaints_4         uint8\n",
       "number_of_open_complaints_5         uint8\n",
       "gender_M                            uint8\n",
       "education_College                   uint8\n",
       "education_Doctor                    uint8\n",
       "education_High School or Below      uint8\n",
       "education_Master                    uint8\n",
       "response_Yes                        uint8\n",
       "state_California                    uint8\n",
       "state_Nevada                        uint8\n",
       "state_Oregon                        uint8\n",
       "state_Washington                    uint8\n",
       "marital_status_Married              uint8\n",
       "marital_status_Single               uint8\n",
       "policy_type_Personal Auto           uint8\n",
       "policy_type_Special Auto            uint8\n",
       "policy_Corporate L2                 uint8\n",
       "policy_Corporate L3                 uint8\n",
       "policy_Personal L1                  uint8\n",
       "policy_Personal L2                  uint8\n",
       "policy_Personal L3                  uint8\n",
       "policy_Special L1                   uint8\n",
       "policy_Special L2                   uint8\n",
       "policy_Special L3                   uint8\n",
       "renew_offer_type_Offer2             uint8\n",
       "renew_offer_type_Offer3             uint8\n",
       "renew_offer_type_Offer4             uint8\n",
       "sales_channel_Branch                uint8\n",
       "sales_channel_Call Center           uint8\n",
       "sales_channel_Web                   uint8\n",
       "vehicle_class_Luxury Car            uint8\n",
       "vehicle_class_Luxury SUV            uint8\n",
       "vehicle_class_SUV                   uint8\n",
       "vehicle_class_Sports Car            uint8\n",
       "vehicle_class_Two-Door Car          uint8\n",
       "customer_lifetime_value           float64\n",
       "income                            float64\n",
       "monthly_premium_auto              float64\n",
       "months_since_policy_inception     float64\n",
       "total_claim_amount                float64\n",
       "day                                 int64\n",
       "dtype: object"
      ]
     },
     "execution_count": 42,
     "metadata": {},
     "output_type": "execute_result"
    }
   ],
   "source": [
    "data_copy.dtypes"
   ]
  },
  {
   "cell_type": "code",
   "execution_count": null,
   "id": "2a5be7b2",
   "metadata": {},
   "outputs": [],
   "source": []
  },
  {
   "cell_type": "code",
   "execution_count": null,
   "id": "c954d2e6",
   "metadata": {},
   "outputs": [],
   "source": []
  }
 ],
 "metadata": {
  "kernelspec": {
   "display_name": "Python 3 (ipykernel)",
   "language": "python",
   "name": "python3"
  },
  "language_info": {
   "codemirror_mode": {
    "name": "ipython",
    "version": 3
   },
   "file_extension": ".py",
   "mimetype": "text/x-python",
   "name": "python",
   "nbconvert_exporter": "python",
   "pygments_lexer": "ipython3",
   "version": "3.9.7"
  }
 },
 "nbformat": 4,
 "nbformat_minor": 5
}
